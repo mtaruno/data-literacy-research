{
 "cells": [
  {
   "cell_type": "code",
   "execution_count": 1,
   "metadata": {},
   "outputs": [],
   "source": [
    "import pandas as pd\n",
    "from utilities.utils import preprocess_heading_text\n",
    "from utilities.utils import to_wcdf\n",
    "from utilities.utils import visualize_counts"
   ]
  },
  {
   "cell_type": "code",
   "execution_count": 2,
   "metadata": {},
   "outputs": [
    {
     "name": "stdout",
     "output_type": "stream",
     "text": [
      "NAs Before: 845\n",
      "Shape Before: (7218, 5)\n",
      "NAs After: 0\n",
      "Shape After: (5499, 5)\n"
     ]
    },
    {
     "data": {
      "text/html": [
       "<div>\n",
       "<style scoped>\n",
       "    .dataframe tbody tr th:only-of-type {\n",
       "        vertical-align: middle;\n",
       "    }\n",
       "\n",
       "    .dataframe tbody tr th {\n",
       "        vertical-align: top;\n",
       "    }\n",
       "\n",
       "    .dataframe thead th {\n",
       "        text-align: right;\n",
       "    }\n",
       "</style>\n",
       "<table border=\"1\" class=\"dataframe\">\n",
       "  <thead>\n",
       "    <tr style=\"text-align: right;\">\n",
       "      <th></th>\n",
       "      <th>ID</th>\n",
       "      <th>Heading Text</th>\n",
       "      <th>Heading Title</th>\n",
       "      <th>Frequency</th>\n",
       "      <th>Person/Job/Org/None</th>\n",
       "    </tr>\n",
       "  </thead>\n",
       "  <tbody>\n",
       "    <tr>\n",
       "      <th>0</th>\n",
       "      <td>0</td>\n",
       "      <td>This is a unique opportunity to collaborate wi...</td>\n",
       "      <td>position summary</td>\n",
       "      <td>56</td>\n",
       "      <td>Job</td>\n",
       "    </tr>\n",
       "    <tr>\n",
       "      <th>1</th>\n",
       "      <td>43</td>\n",
       "      <td>We are looking for a full time Data Scientist ...</td>\n",
       "      <td>position summary</td>\n",
       "      <td>56</td>\n",
       "      <td>Job</td>\n",
       "    </tr>\n",
       "    <tr>\n",
       "      <th>2</th>\n",
       "      <td>157</td>\n",
       "      <td>The Senior Data Analyst is responsible for ana...</td>\n",
       "      <td>position summary</td>\n",
       "      <td>56</td>\n",
       "      <td>Job</td>\n",
       "    </tr>\n",
       "    <tr>\n",
       "      <th>3</th>\n",
       "      <td>176</td>\n",
       "      <td>In this role you'll be working on a team desig...</td>\n",
       "      <td>position summary</td>\n",
       "      <td>56</td>\n",
       "      <td>Job</td>\n",
       "    </tr>\n",
       "    <tr>\n",
       "      <th>4</th>\n",
       "      <td>183</td>\n",
       "      <td>The Senior Data Analyst is responsible for ana...</td>\n",
       "      <td>position summary</td>\n",
       "      <td>56</td>\n",
       "      <td>Job</td>\n",
       "    </tr>\n",
       "  </tbody>\n",
       "</table>\n",
       "</div>"
      ],
      "text/plain": [
       "    ID                                       Heading Text     Heading Title  \\\n",
       "0    0  This is a unique opportunity to collaborate wi...  position summary   \n",
       "1   43  We are looking for a full time Data Scientist ...  position summary   \n",
       "2  157  The Senior Data Analyst is responsible for ana...  position summary   \n",
       "3  176  In this role you'll be working on a team desig...  position summary   \n",
       "4  183  The Senior Data Analyst is responsible for ana...  position summary   \n",
       "\n",
       "   Frequency Person/Job/Org/None  \n",
       "0         56                 Job  \n",
       "1         56                 Job  \n",
       "2         56                 Job  \n",
       "3         56                 Job  \n",
       "4         56                 Job  "
      ]
     },
     "execution_count": 2,
     "metadata": {},
     "output_type": "execute_result"
    }
   ],
   "source": [
    "path = \"../data/merged_headings_df.csv\"\n",
    "merged_headings_df = pd.read_csv(path, index_col = 0)\n",
    "\n",
    "print(f\"NAs Before: {merged_headings_df['Heading Text'].isna().sum()}\")\n",
    "print(f\"Shape Before: {merged_headings_df.shape}\")\n",
    "\n",
    "def drop_duplicates_and_na(data):\n",
    "    # dropping duplicates\n",
    "    data = data.drop_duplicates()\n",
    "    # dropping nan\n",
    "    data = data.dropna()\n",
    "    \n",
    "    return data\n",
    "\n",
    "merged_headings_df = drop_duplicates_and_na(merged_headings_df)\n",
    "\n",
    "print(f\"NAs After: {merged_headings_df['Heading Text'].isna().sum()}\")\n",
    "print(f\"Shape After: {merged_headings_df.shape}\")\n",
    "\n",
    "merged_headings_df.head()"
   ]
  },
  {
   "cell_type": "code",
   "execution_count": 3,
   "metadata": {},
   "outputs": [
    {
     "name": "stdout",
     "output_type": "stream",
     "text": [
      "Using Default Stopwords\n"
     ]
    },
    {
     "name": "stderr",
     "output_type": "stream",
     "text": [
      "/Users/mtaruno/opt/anaconda3/envs/cannon/lib/python3.8/site-packages/seaborn/_decorators.py:36: FutureWarning: Pass the following variables as keyword args: x, y. From version 0.12, the only valid positional argument will be `data`, and passing other arguments without an explicit keyword will result in an error or misinterpretation.\n",
      "  warnings.warn(\n"
     ]
    },
    {
     "data": {
      "image/png": "[encoded data removed]",
      "text/plain": [
       "<Figure size 1152x360 with 1 Axes>"
      ]
     },
     "metadata": {
      "needs_background": "light"
     },
     "output_type": "display_data"
    }
   ],
   "source": [
    "wcdf = to_wcdf(merged_headings_df['Heading Text'])\n",
    "\n",
    "visualize_counts(wcdf)"
   ]
  },
  {
   "cell_type": "code",
   "execution_count": 4,
   "metadata": {},
   "outputs": [],
   "source": [
    "# Preprocessing Heading Text\n",
    "merged_headings_df['Heading Text'] = merged_headings_df['Heading Text'].apply(preprocess_heading_text)"
   ]
  },
  {
   "cell_type": "code",
   "execution_count": 5,
   "metadata": {},
   "outputs": [
    {
     "data": {
      "text/plain": [
       "0       unique opportunity collaborate diverse team te...\n",
       "1       looking full time data scientist work one area...\n",
       "2       senior data analyst responsible analyzing medi...\n",
       "3       role working team designing building testing n...\n",
       "4       senior data analyst responsible analyzing medi...\n",
       "                              ...                        \n",
       "7158                            employment type full time\n",
       "7159          organization wm national sales marketing hr\n",
       "7187    bachelor degree business admin management info...\n",
       "7188    must masters bachelors degree computer science...\n",
       "7196    must able perform pressure fast paced environment\n",
       "Name: Heading Text, Length: 5499, dtype: object"
      ]
     },
     "execution_count": 5,
     "metadata": {},
     "output_type": "execute_result"
    }
   ],
   "source": [
    "merged_headings_df['Heading Text']"
   ]
  },
  {
   "cell_type": "code",
   "execution_count": 6,
   "metadata": {},
   "outputs": [
    {
     "name": "stdout",
     "output_type": "stream",
     "text": [
      "Using Default Stopwords\n"
     ]
    },
    {
     "name": "stderr",
     "output_type": "stream",
     "text": [
      "/Users/mtaruno/opt/anaconda3/envs/cannon/lib/python3.8/site-packages/seaborn/_decorators.py:36: FutureWarning: Pass the following variables as keyword args: x, y. From version 0.12, the only valid positional argument will be `data`, and passing other arguments without an explicit keyword will result in an error or misinterpretation.\n",
      "  warnings.warn(\n"
     ]
    },
    {
     "data": {
      "image/png": "[encoded data removed]",
      "text/plain": [
       "<Figure size 1152x360 with 1 Axes>"
      ]
     },
     "metadata": {
      "needs_background": "light"
     },
     "output_type": "display_data"
    }
   ],
   "source": [
    "wcdf2 = to_wcdf(merged_headings_df['Heading Text'])\n",
    "\n",
    "visualize_counts(wcdf2)"
   ]
  },
  {
   "cell_type": "code",
   "execution_count": 8,
   "metadata": {},
   "outputs": [
    {
     "name": "stdout",
     "output_type": "stream",
     "text": [
      "Using Default Stopwords\n"
     ]
    }
   ],
   "source": [
    "# Most common 2-grams\n",
    "wcdf_2grams = to_wcdf(merged_headings_df['Heading Text'], ngram_range = (1,2))"
   ]
  },
  {
   "cell_type": "code",
   "execution_count": 9,
   "metadata": {},
   "outputs": [
    {
     "name": "stderr",
     "output_type": "stream",
     "text": [
      "/Users/mtaruno/opt/anaconda3/envs/cannon/lib/python3.8/site-packages/seaborn/_decorators.py:36: FutureWarning: Pass the following variables as keyword args: x, y. From version 0.12, the only valid positional argument will be `data`, and passing other arguments without an explicit keyword will result in an error or misinterpretation.\n",
      "  warnings.warn(\n"
     ]
    },
    {
     "data": {
      "image/png": "[encoded data removed]",
      "text/plain": [
       "<Figure size 1152x360 with 1 Axes>"
      ]
     },
     "metadata": {
      "needs_background": "light"
     },
     "output_type": "display_data"
    }
   ],
   "source": [
    "visualize_counts(wcdf_2grams, title = \"Top 30 Most Frequent Words (Including 2-Grams)\")"
   ]
  },
  {
   "cell_type": "code",
   "execution_count": 10,
   "metadata": {},
   "outputs": [
    {
     "data": {
      "text/html": [
       "<div>\n",
       "<style scoped>\n",
       "    .dataframe tbody tr th:only-of-type {\n",
       "        vertical-align: middle;\n",
       "    }\n",
       "\n",
       "    .dataframe tbody tr th {\n",
       "        vertical-align: top;\n",
       "    }\n",
       "\n",
       "    .dataframe thead th {\n",
       "        text-align: right;\n",
       "    }\n",
       "</style>\n",
       "<table border=\"1\" class=\"dataframe\">\n",
       "  <thead>\n",
       "    <tr style=\"text-align: right;\">\n",
       "      <th></th>\n",
       "      <th>ID</th>\n",
       "      <th>Heading Text</th>\n",
       "      <th>Heading Title</th>\n",
       "      <th>Frequency</th>\n",
       "      <th>Person/Job/Org/None</th>\n",
       "    </tr>\n",
       "  </thead>\n",
       "  <tbody>\n",
       "    <tr>\n",
       "      <th>0</th>\n",
       "      <td>0</td>\n",
       "      <td>unique opportunity collaborate diverse team te...</td>\n",
       "      <td>position summary</td>\n",
       "      <td>56</td>\n",
       "      <td>Job</td>\n",
       "    </tr>\n",
       "    <tr>\n",
       "      <th>1</th>\n",
       "      <td>43</td>\n",
       "      <td>looking full time data scientist work one area...</td>\n",
       "      <td>position summary</td>\n",
       "      <td>56</td>\n",
       "      <td>Job</td>\n",
       "    </tr>\n",
       "    <tr>\n",
       "      <th>2</th>\n",
       "      <td>157</td>\n",
       "      <td>senior data analyst responsible analyzing medi...</td>\n",
       "      <td>position summary</td>\n",
       "      <td>56</td>\n",
       "      <td>Job</td>\n",
       "    </tr>\n",
       "    <tr>\n",
       "      <th>3</th>\n",
       "      <td>176</td>\n",
       "      <td>role working team designing building testing n...</td>\n",
       "      <td>position summary</td>\n",
       "      <td>56</td>\n",
       "      <td>Job</td>\n",
       "    </tr>\n",
       "    <tr>\n",
       "      <th>4</th>\n",
       "      <td>183</td>\n",
       "      <td>senior data analyst responsible analyzing medi...</td>\n",
       "      <td>position summary</td>\n",
       "      <td>56</td>\n",
       "      <td>Job</td>\n",
       "    </tr>\n",
       "    <tr>\n",
       "      <th>...</th>\n",
       "      <td>...</td>\n",
       "      <td>...</td>\n",
       "      <td>...</td>\n",
       "      <td>...</td>\n",
       "      <td>...</td>\n",
       "    </tr>\n",
       "    <tr>\n",
       "      <th>7158</th>\n",
       "      <td>1649</td>\n",
       "      <td>employment type full time</td>\n",
       "      <td>job wealth management</td>\n",
       "      <td>2</td>\n",
       "      <td>Job</td>\n",
       "    </tr>\n",
       "    <tr>\n",
       "      <th>7159</th>\n",
       "      <td>1691</td>\n",
       "      <td>organization wm national sales marketing hr</td>\n",
       "      <td>job wealth management</td>\n",
       "      <td>2</td>\n",
       "      <td>Job</td>\n",
       "    </tr>\n",
       "    <tr>\n",
       "      <th>7187</th>\n",
       "      <td>1671</td>\n",
       "      <td>bachelor degree business admin management info...</td>\n",
       "      <td>education and experience required</td>\n",
       "      <td>2</td>\n",
       "      <td>Person</td>\n",
       "    </tr>\n",
       "    <tr>\n",
       "      <th>7188</th>\n",
       "      <td>1690</td>\n",
       "      <td>must masters bachelors degree computer science...</td>\n",
       "      <td>education and experience required</td>\n",
       "      <td>2</td>\n",
       "      <td>Person</td>\n",
       "    </tr>\n",
       "    <tr>\n",
       "      <th>7196</th>\n",
       "      <td>1677</td>\n",
       "      <td>must able perform pressure fast paced environment</td>\n",
       "      <td>strong quantitative and problemsolving skills</td>\n",
       "      <td>2</td>\n",
       "      <td>Person</td>\n",
       "    </tr>\n",
       "  </tbody>\n",
       "</table>\n",
       "<p>5499 rows × 5 columns</p>\n",
       "</div>"
      ],
      "text/plain": [
       "        ID                                       Heading Text  \\\n",
       "0        0  unique opportunity collaborate diverse team te...   \n",
       "1       43  looking full time data scientist work one area...   \n",
       "2      157  senior data analyst responsible analyzing medi...   \n",
       "3      176  role working team designing building testing n...   \n",
       "4      183  senior data analyst responsible analyzing medi...   \n",
       "...    ...                                                ...   \n",
       "7158  1649                          employment type full time   \n",
       "7159  1691        organization wm national sales marketing hr   \n",
       "7187  1671  bachelor degree business admin management info...   \n",
       "7188  1690  must masters bachelors degree computer science...   \n",
       "7196  1677  must able perform pressure fast paced environment   \n",
       "\n",
       "                                      Heading Title  Frequency  \\\n",
       "0                                  position summary         56   \n",
       "1                                  position summary         56   \n",
       "2                                  position summary         56   \n",
       "3                                  position summary         56   \n",
       "4                                  position summary         56   \n",
       "...                                             ...        ...   \n",
       "7158                          job wealth management          2   \n",
       "7159                          job wealth management          2   \n",
       "7187              education and experience required          2   \n",
       "7188              education and experience required          2   \n",
       "7196  strong quantitative and problemsolving skills          2   \n",
       "\n",
       "     Person/Job/Org/None  \n",
       "0                    Job  \n",
       "1                    Job  \n",
       "2                    Job  \n",
       "3                    Job  \n",
       "4                    Job  \n",
       "...                  ...  \n",
       "7158                 Job  \n",
       "7159                 Job  \n",
       "7187              Person  \n",
       "7188              Person  \n",
       "7196              Person  \n",
       "\n",
       "[5499 rows x 5 columns]"
      ]
     },
     "execution_count": 10,
     "metadata": {},
     "output_type": "execute_result"
    }
   ],
   "source": [
    "merged_headings_df"
   ]
  },
  {
   "cell_type": "code",
   "execution_count": 16,
   "metadata": {},
   "outputs": [
    {
     "data": {
      "text/plain": [
       "Job       2191\n",
       "Person    1951\n",
       "Org        753\n",
       "None       556\n",
       "?           48\n",
       "Name: Person/Job/Org/None, dtype: int64"
      ]
     },
     "execution_count": 16,
     "metadata": {},
     "output_type": "execute_result"
    }
   ],
   "source": [
    "merged_headings_df['Person/Job/Org/None'].value_counts()"
   ]
  },
  {
   "cell_type": "code",
   "execution_count": 18,
   "metadata": {},
   "outputs": [],
   "source": [
    "# Dropping the ? from the target\n",
    "\n",
    "merged_headings_df = merged_headings_df[merged_headings_df['Person/Job/Org/None'] != '?']"
   ]
  },
  {
   "cell_type": "code",
   "execution_count": 19,
   "metadata": {},
   "outputs": [
    {
     "data": {
      "text/plain": [
       "Job       2191\n",
       "Person    1951\n",
       "Org        753\n",
       "None       556\n",
       "Name: Person/Job/Org/None, dtype: int64"
      ]
     },
     "execution_count": 19,
     "metadata": {},
     "output_type": "execute_result"
    }
   ],
   "source": [
    "merged_headings_df['Person/Job/Org/None'].value_counts()"
   ]
  },
  {
   "cell_type": "code",
   "execution_count": 22,
   "metadata": {},
   "outputs": [],
   "source": [
    "# Saving preprocessed heading text to disk\n",
    "DATADIR = '../data/'\n",
    "\n",
    "merged_headings_df.to_csv(DATADIR + \"preprocessed_merged_headings_df.csv\")"
   ]
  }
 ],
 "metadata": {
  "kernelspec": {
   "display_name": "Python 3",
   "language": "python",
   "name": "python3"
  },
  "language_info": {
   "codemirror_mode": {
    "name": "ipython",
    "version": 3
   },
   "file_extension": ".py",
   "mimetype": "text/x-python",
   "name": "python",
   "nbconvert_exporter": "python",
   "pygments_lexer": "ipython3",
   "version": "3.8.5"
  }
 },
 "nbformat": 4,
 "nbformat_minor": 5
}
