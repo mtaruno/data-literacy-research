{
 "cells": [
  {
   "cell_type": "code",
   "execution_count": 1,
   "id": "chubby-participation",
   "metadata": {},
   "outputs": [
    {
     "name": "stdout",
     "output_type": "stream",
     "text": [
      "Versions\n",
      "Pandas: 1.2.1\n",
      "Numpy: 1.19.2\n"
     ]
    }
   ],
   "source": [
    "## All my imports\n",
    "print(\"Versions\")\n",
    "# Data science\n",
    "import pandas as pd\n",
    "print(f\"Pandas: {pd.__version__}\")\n",
    "import numpy as np\n",
    "print(f\"Numpy: {np.__version__}\")\n",
    "# Visualization \n",
    "import seaborn as sns\n",
    "import matplotlib.pyplot as plt\n",
    "sns.set(style=\"ticks\", color_codes=True)\n",
    "import os\n",
    "# Text Stuff\n",
    "from sklearn.feature_extraction.text import CountVectorizer\n",
    "import nltk\n",
    "from nltk.corpus import stopwords"
   ]
  },
  {
   "cell_type": "markdown",
   "id": "sought-listening",
   "metadata": {},
   "source": [
    "Now, I want to figure out the direction I would like to take this project, so here are 5 directions that I am considering."
   ]
  },
  {
   "cell_type": "code",
   "execution_count": 7,
   "id": "surprised-equivalent",
   "metadata": {},
   "outputs": [],
   "source": [
    "merged = pd.read_csv('headings/headings_df.csv', index_col = 0)"
   ]
  },
  {
   "cell_type": "code",
   "execution_count": 8,
   "id": "regulation-norway",
   "metadata": {},
   "outputs": [
    {
     "data": {
      "text/html": [
       "<div>\n",
       "<style scoped>\n",
       "    .dataframe tbody tr th:only-of-type {\n",
       "        vertical-align: middle;\n",
       "    }\n",
       "\n",
       "    .dataframe tbody tr th {\n",
       "        vertical-align: top;\n",
       "    }\n",
       "\n",
       "    .dataframe thead th {\n",
       "        text-align: right;\n",
       "    }\n",
       "</style>\n",
       "<table border=\"1\" class=\"dataframe\">\n",
       "  <thead>\n",
       "    <tr style=\"text-align: right;\">\n",
       "      <th></th>\n",
       "      <th>ID</th>\n",
       "      <th>Heading</th>\n",
       "      <th>Heading Text</th>\n",
       "      <th>Heading Title</th>\n",
       "      <th>Frequency</th>\n",
       "      <th>Person/Job/Org/None</th>\n",
       "    </tr>\n",
       "  </thead>\n",
       "  <tbody>\n",
       "    <tr>\n",
       "      <th>0</th>\n",
       "      <td>0</td>\n",
       "      <td>position summary</td>\n",
       "      <td>This is a unique opportunity to collaborate wi...</td>\n",
       "      <td>position summary</td>\n",
       "      <td>56</td>\n",
       "      <td>Job</td>\n",
       "    </tr>\n",
       "    <tr>\n",
       "      <th>1</th>\n",
       "      <td>43</td>\n",
       "      <td>position summary</td>\n",
       "      <td>We are looking for a full time Data Scientist ...</td>\n",
       "      <td>position summary</td>\n",
       "      <td>56</td>\n",
       "      <td>Job</td>\n",
       "    </tr>\n",
       "    <tr>\n",
       "      <th>2</th>\n",
       "      <td>157</td>\n",
       "      <td>position summary</td>\n",
       "      <td>The Senior Data Analyst is responsible for ana...</td>\n",
       "      <td>position summary</td>\n",
       "      <td>56</td>\n",
       "      <td>Job</td>\n",
       "    </tr>\n",
       "    <tr>\n",
       "      <th>3</th>\n",
       "      <td>176</td>\n",
       "      <td>position summary</td>\n",
       "      <td>In this role you'll be working on a team desig...</td>\n",
       "      <td>position summary</td>\n",
       "      <td>56</td>\n",
       "      <td>Job</td>\n",
       "    </tr>\n",
       "    <tr>\n",
       "      <th>4</th>\n",
       "      <td>183</td>\n",
       "      <td>position summary</td>\n",
       "      <td>The Senior Data Analyst is responsible for ana...</td>\n",
       "      <td>position summary</td>\n",
       "      <td>56</td>\n",
       "      <td>Job</td>\n",
       "    </tr>\n",
       "    <tr>\n",
       "      <th>...</th>\n",
       "      <td>...</td>\n",
       "      <td>...</td>\n",
       "      <td>...</td>\n",
       "      <td>...</td>\n",
       "      <td>...</td>\n",
       "      <td>...</td>\n",
       "    </tr>\n",
       "    <tr>\n",
       "      <th>7213</th>\n",
       "      <td>1701</td>\n",
       "      <td>three years related work experience</td>\n",
       "      <td>Demonstrated experience with data warehousing ...</td>\n",
       "      <td>three years related work experience</td>\n",
       "      <td>1</td>\n",
       "      <td>NaN</td>\n",
       "    </tr>\n",
       "    <tr>\n",
       "      <th>7214</th>\n",
       "      <td>1701</td>\n",
       "      <td>five years related work experience</td>\n",
       "      <td>Demonstrated experience in employee training, ...</td>\n",
       "      <td>five years related work experience</td>\n",
       "      <td>1</td>\n",
       "      <td>NaN</td>\n",
       "    </tr>\n",
       "    <tr>\n",
       "      <th>7215</th>\n",
       "      <td>1701</td>\n",
       "      <td>ten years related work experience</td>\n",
       "      <td>Ability to facilitate effective presentations ...</td>\n",
       "      <td>ten years related work experience</td>\n",
       "      <td>1</td>\n",
       "      <td>NaN</td>\n",
       "    </tr>\n",
       "    <tr>\n",
       "      <th>7216</th>\n",
       "      <td>1702</td>\n",
       "      <td>about indigo</td>\n",
       "      <td>Indigo works with utilities and energy compani...</td>\n",
       "      <td>about indigo</td>\n",
       "      <td>1</td>\n",
       "      <td>NaN</td>\n",
       "    </tr>\n",
       "    <tr>\n",
       "      <th>7217</th>\n",
       "      <td>1702</td>\n",
       "      <td>back to careers</td>\n",
       "      <td>Support to internal data science team.</td>\n",
       "      <td>back to careers</td>\n",
       "      <td>1</td>\n",
       "      <td>NaN</td>\n",
       "    </tr>\n",
       "  </tbody>\n",
       "</table>\n",
       "<p>7218 rows × 6 columns</p>\n",
       "</div>"
      ],
      "text/plain": [
       "        ID                              Heading  \\\n",
       "0        0                     position summary   \n",
       "1       43                     position summary   \n",
       "2      157                     position summary   \n",
       "3      176                     position summary   \n",
       "4      183                     position summary   \n",
       "...    ...                                  ...   \n",
       "7213  1701  three years related work experience   \n",
       "7214  1701   five years related work experience   \n",
       "7215  1701    ten years related work experience   \n",
       "7216  1702                         about indigo   \n",
       "7217  1702                      back to careers   \n",
       "\n",
       "                                           Heading Text  \\\n",
       "0     This is a unique opportunity to collaborate wi...   \n",
       "1     We are looking for a full time Data Scientist ...   \n",
       "2     The Senior Data Analyst is responsible for ana...   \n",
       "3     In this role you'll be working on a team desig...   \n",
       "4     The Senior Data Analyst is responsible for ana...   \n",
       "...                                                 ...   \n",
       "7213  Demonstrated experience with data warehousing ...   \n",
       "7214  Demonstrated experience in employee training, ...   \n",
       "7215  Ability to facilitate effective presentations ...   \n",
       "7216  Indigo works with utilities and energy compani...   \n",
       "7217             Support to internal data science team.   \n",
       "\n",
       "                            Heading Title  Frequency Person/Job/Org/None  \n",
       "0                        position summary         56                 Job  \n",
       "1                        position summary         56                 Job  \n",
       "2                        position summary         56                 Job  \n",
       "3                        position summary         56                 Job  \n",
       "4                        position summary         56                 Job  \n",
       "...                                   ...        ...                 ...  \n",
       "7213  three years related work experience          1                 NaN  \n",
       "7214   five years related work experience          1                 NaN  \n",
       "7215    ten years related work experience          1                 NaN  \n",
       "7216                         about indigo          1                 NaN  \n",
       "7217                      back to careers          1                 NaN  \n",
       "\n",
       "[7218 rows x 6 columns]"
      ]
     },
     "execution_count": 8,
     "metadata": {},
     "output_type": "execute_result"
    }
   ],
   "source": [
    "merged"
   ]
  },
  {
   "cell_type": "markdown",
   "id": "peaceful-brighton",
   "metadata": {},
   "source": [
    "Look at the papers that the Google Scholar papers cite. They could be the seminal papers that we can reference from. \n",
    "\n",
    "ALSO look who cites these papers.\n",
    "\n",
    "Literature reviews.\n",
    "\n",
    "Data science unit.\n",
    "\n",
    "Banking regulators are now doing text analysis of investor call transcripts and company prospectuses to find words that indicate some sort of risks. They might use Waffle words. Word counts are super important in fraud detection and in these edge cases."
   ]
  },
  {
   "cell_type": "markdown",
   "id": "several-cedar",
   "metadata": {},
   "source": [
    "# Set Analysis"
   ]
  },
  {
   "cell_type": "code",
   "execution_count": 11,
   "id": "announced-cameroon",
   "metadata": {},
   "outputs": [
    {
     "data": {
      "text/plain": [
       "{'ability',\n",
       " 'across',\n",
       " 'analysis',\n",
       " 'analytics',\n",
       " 'business',\n",
       " 'degree',\n",
       " 'develop',\n",
       " 'development',\n",
       " 'experience',\n",
       " 'health',\n",
       " 'including',\n",
       " 'insights',\n",
       " 'knowledge',\n",
       " 'management',\n",
       " 'new',\n",
       " 'opportunity',\n",
       " 'product',\n",
       " 'research',\n",
       " 'role',\n",
       " 'skills',\n",
       " 'status',\n",
       " 'strong',\n",
       " 'support',\n",
       " 'team',\n",
       " 'teams',\n",
       " 'technology',\n",
       " 'tools',\n",
       " 'using',\n",
       " 'work',\n",
       " 'working',\n",
       " 'years'}"
      ]
     },
     "execution_count": 11,
     "metadata": {},
     "output_type": "execute_result"
    }
   ],
   "source": [
    "top_ds = set(ds_words.sum().sort_values(ascending=False)[:50].index)\n",
    "top_da = set(da_words.sum().sort_values(ascending=False)[:50].index)\n",
    "\n",
    "top_ds.intersection(top_da)"
   ]
  },
  {
   "cell_type": "code",
   "execution_count": 12,
   "id": "ambient-external",
   "metadata": {},
   "outputs": [
    {
     "data": {
      "text/plain": [
       "experience     2002\n",
       "team           1173\n",
       "work           1148\n",
       "business       1117\n",
       "learning       1103\n",
       "science         990\n",
       "machine         819\n",
       "new             751\n",
       "analytics       701\n",
       "product         665\n",
       "research        619\n",
       "skills          619\n",
       "analysis        601\n",
       "models          585\n",
       "people          584\n",
       "working         574\n",
       "years           552\n",
       "including       507\n",
       "teams           501\n",
       "status          500\n",
       "world           478\n",
       "engineering     475\n",
       "company         471\n",
       "ability         467\n",
       "across          467\n",
       "solutions       453\n",
       "development     451\n",
       "build           447\n",
       "insights        440\n",
       "strong          431\n",
       "help            431\n",
       "technical       419\n",
       "health          414\n",
       "opportunity     409\n",
       "using           391\n",
       "us              390\n",
       "knowledge       381\n",
       "statistical     378\n",
       "management      376\n",
       "tools           376\n",
       "role            374\n",
       "gender          373\n",
       "support         360\n",
       "develop         357\n",
       "python          349\n",
       "products        344\n",
       "problems        339\n",
       "scientist       328\n",
       "technology      317\n",
       "degree          316\n",
       "dtype: int64"
      ]
     },
     "execution_count": 12,
     "metadata": {},
     "output_type": "execute_result"
    }
   ],
   "source": [
    "ds_words.sum().sort_values(ascending=False)[:50]"
   ]
  },
  {
   "cell_type": "code",
   "execution_count": 13,
   "id": "historic-agency",
   "metadata": {},
   "outputs": [
    {
     "data": {
      "text/plain": [
       "{'build',\n",
       " 'company',\n",
       " 'engineering',\n",
       " 'gender',\n",
       " 'help',\n",
       " 'learning',\n",
       " 'machine',\n",
       " 'models',\n",
       " 'people',\n",
       " 'problems',\n",
       " 'products',\n",
       " 'python',\n",
       " 'science',\n",
       " 'scientist',\n",
       " 'solutions',\n",
       " 'statistical',\n",
       " 'technical',\n",
       " 'us',\n",
       " 'world'}"
      ]
     },
     "execution_count": 13,
     "metadata": {},
     "output_type": "execute_result"
    }
   ],
   "source": [
    "top_ds - top_da"
   ]
  },
  {
   "cell_type": "code",
   "execution_count": 14,
   "id": "challenging-democrat",
   "metadata": {},
   "outputs": [
    {
     "data": {
      "text/plain": [
       "{'analyst',\n",
       " 'analytical',\n",
       " 'analyze',\n",
       " 'environment',\n",
       " 'financial',\n",
       " 'information',\n",
       " 'job',\n",
       " 'position',\n",
       " 'provide',\n",
       " 'quality',\n",
       " 'related',\n",
       " 'reporting',\n",
       " 'reports',\n",
       " 'required',\n",
       " 'requirements',\n",
       " 'services',\n",
       " 'sql',\n",
       " 'systems',\n",
       " 'time'}"
      ]
     },
     "execution_count": 14,
     "metadata": {},
     "output_type": "execute_result"
    }
   ],
   "source": [
    "top_da - top_ds"
   ]
  },
  {
   "cell_type": "markdown",
   "id": "behind-personality",
   "metadata": {},
   "source": [
    "Ideas for analysis:\n",
    "* LDA\n",
    "* N Gram Analysis"
   ]
  },
  {
   "cell_type": "markdown",
   "id": "regulation-morocco",
   "metadata": {},
   "source": [
    "Spit out a CSV file with unique header examples. Then we can make dummy variables to see what's in the skill requirements vs what does the job do. It would be interesting to see when we start looking at different job titles, what words pop up in common across them? What's in a data scientist job description that is not in a job analyst job description?\n",
    "\n",
    "What are words that appear in one vs the other? What is the range of job descriptions that we are pulling out?\n",
    "\n",
    "Data Analyst has less requirements than Data Scientist, is that actually true? We can look at it by industry and location as well.\n",
    "\n",
    "Sillicon Valley vs New York. Regional differences for expectations for technical capabilities?"
   ]
  }
 ],
 "metadata": {
  "kernelspec": {
   "display_name": "Python 3",
   "language": "python",
   "name": "python3"
  },
  "language_info": {
   "codemirror_mode": {
    "name": "ipython",
    "version": 3
   },
   "file_extension": ".py",
   "mimetype": "text/x-python",
   "name": "python",
   "nbconvert_exporter": "python",
   "pygments_lexer": "ipython3",
   "version": "3.8.5"
  }
 },
 "nbformat": 4,
 "nbformat_minor": 5
}
