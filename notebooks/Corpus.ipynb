{
 "cells": [
  {
   "cell_type": "markdown",
   "metadata": {},
   "source": [
    "# Creating a Corpus"
   ]
  },
  {
   "cell_type": "markdown",
   "metadata": {},
   "source": [
    "## Indeed Scraping:\n",
    "\n",
    "Source: [Github](https://github.com/jlgamez/indeed-jobs-scraper)\n",
    "[Article](https://jlgamez.com/how-i-scrape-jobs-data-from-indeed-com-with-python/)\n",
    "\n",
    "[Article 2](https://www.jobspikr.com/blog/scraping-indeed-job-data-using-python/)\n",
    "\n",
    "### Final Data Fields:\n",
    "* Job Title\n",
    "* Summary\n",
    "* Location\n",
    "* Name of the Company\n",
    "* The Date posted\n",
    "* Details\n",
    "* Job URL"
   ]
  },
  {
   "cell_type": "code",
   "execution_count": null,
   "metadata": {},
   "outputs": [],
   "source": []
  }
 ],
 "metadata": {
  "kernelspec": {
   "display_name": "Python 3",
   "language": "python",
   "name": "python3"
  },
  "language_info": {
   "codemirror_mode": {
    "name": "ipython",
    "version": 3
   },
   "file_extension": ".py",
   "mimetype": "text/x-python",
   "name": "python",
   "nbconvert_exporter": "python",
   "pygments_lexer": "ipython3",
   "version": "3.8.5"
  }
 },
 "nbformat": 4,
 "nbformat_minor": 4
}
