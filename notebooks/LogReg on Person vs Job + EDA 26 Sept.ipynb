{
 "cells": [
  {
   "cell_type": "code",
   "execution_count": 141,
   "id": "national-coating",
   "metadata": {},
   "outputs": [
    {
     "data": {
      "text/html": [
       "<div>\n",
       "<style scoped>\n",
       "    .dataframe tbody tr th:only-of-type {\n",
       "        vertical-align: middle;\n",
       "    }\n",
       "\n",
       "    .dataframe tbody tr th {\n",
       "        vertical-align: top;\n",
       "    }\n",
       "\n",
       "    .dataframe thead th {\n",
       "        text-align: right;\n",
       "    }\n",
       "</style>\n",
       "<table border=\"1\" class=\"dataframe\">\n",
       "  <thead>\n",
       "    <tr style=\"text-align: right;\">\n",
       "      <th></th>\n",
       "      <th>ID</th>\n",
       "      <th>Heading Text</th>\n",
       "      <th>Heading Title</th>\n",
       "      <th>Frequency</th>\n",
       "      <th>Person/Job/Org/None</th>\n",
       "    </tr>\n",
       "  </thead>\n",
       "  <tbody>\n",
       "    <tr>\n",
       "      <th>0</th>\n",
       "      <td>0</td>\n",
       "      <td>unique opportunity collaborate diverse team te...</td>\n",
       "      <td>position summary</td>\n",
       "      <td>56</td>\n",
       "      <td>Job</td>\n",
       "    </tr>\n",
       "    <tr>\n",
       "      <th>1</th>\n",
       "      <td>43</td>\n",
       "      <td>looking full time data scientist work one area...</td>\n",
       "      <td>position summary</td>\n",
       "      <td>56</td>\n",
       "      <td>Job</td>\n",
       "    </tr>\n",
       "    <tr>\n",
       "      <th>2</th>\n",
       "      <td>157</td>\n",
       "      <td>senior data analyst responsible analyzing medi...</td>\n",
       "      <td>position summary</td>\n",
       "      <td>56</td>\n",
       "      <td>Job</td>\n",
       "    </tr>\n",
       "    <tr>\n",
       "      <th>3</th>\n",
       "      <td>176</td>\n",
       "      <td>role working team designing building testing n...</td>\n",
       "      <td>position summary</td>\n",
       "      <td>56</td>\n",
       "      <td>Job</td>\n",
       "    </tr>\n",
       "    <tr>\n",
       "      <th>4</th>\n",
       "      <td>183</td>\n",
       "      <td>senior data analyst responsible analyzing medi...</td>\n",
       "      <td>position summary</td>\n",
       "      <td>56</td>\n",
       "      <td>Job</td>\n",
       "    </tr>\n",
       "    <tr>\n",
       "      <th>...</th>\n",
       "      <td>...</td>\n",
       "      <td>...</td>\n",
       "      <td>...</td>\n",
       "      <td>...</td>\n",
       "      <td>...</td>\n",
       "    </tr>\n",
       "    <tr>\n",
       "      <th>7158</th>\n",
       "      <td>1649</td>\n",
       "      <td>employment type full time</td>\n",
       "      <td>job wealth management</td>\n",
       "      <td>2</td>\n",
       "      <td>Job</td>\n",
       "    </tr>\n",
       "    <tr>\n",
       "      <th>7159</th>\n",
       "      <td>1691</td>\n",
       "      <td>organization wm national sales marketing hr</td>\n",
       "      <td>job wealth management</td>\n",
       "      <td>2</td>\n",
       "      <td>Job</td>\n",
       "    </tr>\n",
       "    <tr>\n",
       "      <th>7187</th>\n",
       "      <td>1671</td>\n",
       "      <td>bachelor degree business admin management info...</td>\n",
       "      <td>education and experience required</td>\n",
       "      <td>2</td>\n",
       "      <td>Person</td>\n",
       "    </tr>\n",
       "    <tr>\n",
       "      <th>7188</th>\n",
       "      <td>1690</td>\n",
       "      <td>must masters bachelors degree computer science...</td>\n",
       "      <td>education and experience required</td>\n",
       "      <td>2</td>\n",
       "      <td>Person</td>\n",
       "    </tr>\n",
       "    <tr>\n",
       "      <th>7196</th>\n",
       "      <td>1677</td>\n",
       "      <td>must able perform pressure fast paced environment</td>\n",
       "      <td>strong quantitative and problemsolving skills</td>\n",
       "      <td>2</td>\n",
       "      <td>Person</td>\n",
       "    </tr>\n",
       "  </tbody>\n",
       "</table>\n",
       "<p>5451 rows × 5 columns</p>\n",
       "</div>"
      ],
      "text/plain": [
       "        ID                                       Heading Text  \\\n",
       "0        0  unique opportunity collaborate diverse team te...   \n",
       "1       43  looking full time data scientist work one area...   \n",
       "2      157  senior data analyst responsible analyzing medi...   \n",
       "3      176  role working team designing building testing n...   \n",
       "4      183  senior data analyst responsible analyzing medi...   \n",
       "...    ...                                                ...   \n",
       "7158  1649                          employment type full time   \n",
       "7159  1691        organization wm national sales marketing hr   \n",
       "7187  1671  bachelor degree business admin management info...   \n",
       "7188  1690  must masters bachelors degree computer science...   \n",
       "7196  1677  must able perform pressure fast paced environment   \n",
       "\n",
       "                                      Heading Title  Frequency  \\\n",
       "0                                  position summary         56   \n",
       "1                                  position summary         56   \n",
       "2                                  position summary         56   \n",
       "3                                  position summary         56   \n",
       "4                                  position summary         56   \n",
       "...                                             ...        ...   \n",
       "7158                          job wealth management          2   \n",
       "7159                          job wealth management          2   \n",
       "7187              education and experience required          2   \n",
       "7188              education and experience required          2   \n",
       "7196  strong quantitative and problemsolving skills          2   \n",
       "\n",
       "     Person/Job/Org/None  \n",
       "0                    Job  \n",
       "1                    Job  \n",
       "2                    Job  \n",
       "3                    Job  \n",
       "4                    Job  \n",
       "...                  ...  \n",
       "7158                 Job  \n",
       "7159                 Job  \n",
       "7187              Person  \n",
       "7188              Person  \n",
       "7196              Person  \n",
       "\n",
       "[5451 rows x 5 columns]"
      ]
     },
     "execution_count": 141,
     "metadata": {},
     "output_type": "execute_result"
    }
   ],
   "source": [
    "import utilities.utils\n",
    "from utilities.etl import IndeedETL\n",
    "import pandas as pd\n",
    "from utilities.utils import to_wcdf\n",
    "import pandas as pd\n",
    "from pandas_profiling import ProfileReport\n",
    "\n",
    "data = pd.read_csv(IndeedETL().paths['preprocessed_merged_with_headings'], index_col=0)\n",
    "data"
   ]
  },
  {
   "cell_type": "code",
   "execution_count": 142,
   "id": "resistant-rough",
   "metadata": {},
   "outputs": [
    {
     "data": {
      "text/plain": [
       "{'heading': '../data/headings/heading_counts_clean.csv',\n",
       " 'scraping': '/Users/mtaruno/Documents/DevZone/job-research/data/scraping_results/indeed/',\n",
       " 'merged': '/Users/mtaruno/Documents/DevZone/job-research/data/merged_df.csv',\n",
       " 'visualizations': '../visualizations',\n",
       " 'merged_with_headings': '/Users/mtaruno/Documents/DevZone/job-research/data/headings/headings_df.csv',\n",
       " 'preprocessed_merged_with_headings': '/Users/mtaruno/Documents/DevZone/job-research/data/preprocessed_merged_headings_df.csv'}"
      ]
     },
     "execution_count": 142,
     "metadata": {},
     "output_type": "execute_result"
    }
   ],
   "source": [
    "IndeedETL().paths"
   ]
  },
  {
   "cell_type": "code",
   "execution_count": 143,
   "id": "persistent-analysis",
   "metadata": {},
   "outputs": [
    {
     "name": "stdout",
     "output_type": "stream",
     "text": [
      "<class 'pandas.core.frame.DataFrame'>\n",
      "Int64Index: 5451 entries, 0 to 7196\n",
      "Data columns (total 5 columns):\n",
      " #   Column               Non-Null Count  Dtype \n",
      "---  ------               --------------  ----- \n",
      " 0   ID                   5451 non-null   int64 \n",
      " 1   Heading Text         5320 non-null   object\n",
      " 2   Heading Title        5451 non-null   object\n",
      " 3   Frequency            5451 non-null   int64 \n",
      " 4   Person/Job/Org/None  5451 non-null   object\n",
      "dtypes: int64(2), object(3)\n",
      "memory usage: 255.5+ KB\n"
     ]
    }
   ],
   "source": [
    "data.info()"
   ]
  },
  {
   "cell_type": "code",
   "execution_count": 144,
   "id": "varied-injury",
   "metadata": {},
   "outputs": [],
   "source": [
    "profile = ProfileReport(data, title=\"Pandas Profiling Report\")"
   ]
  },
  {
   "cell_type": "code",
   "execution_count": 145,
   "id": "effective-divide",
   "metadata": {},
   "outputs": [
    {
     "data": {
      "application/vnd.jupyter.widget-view+json": {
       "model_id": "88c73d11bed041b0b1b7505531fe3741",
       "version_major": 2,
       "version_minor": 0
      },
      "text/plain": [
       "Summarize dataset:   0%|          | 0/19 [00:00<?, ?it/s]"
      ]
     },
     "metadata": {},
     "output_type": "display_data"
    },
    {
     "data": {
      "application/vnd.jupyter.widget-view+json": {
       "model_id": "e8b5a45621594412848e37dfd5f0388f",
       "version_major": 2,
       "version_minor": 0
      },
      "text/plain": [
       "Generate report structure:   0%|          | 0/1 [00:00<?, ?it/s]"
      ]
     },
     "metadata": {},
     "output_type": "display_data"
    },
    {
     "data": {
      "application/vnd.jupyter.widget-view+json": {
       "model_id": "",
       "version_major": 2,
       "version_minor": 0
      },
      "text/plain": [
       "Render widgets:   0%|          | 0/1 [00:00<?, ?it/s]"
      ]
     },
     "metadata": {},
     "output_type": "display_data"
    },
    {
     "data": {
      "application/vnd.jupyter.widget-view+json": {
       "model_id": "f8f1b2dbd40e4020b7d2a74ca98ed5a1",
       "version_major": 2,
       "version_minor": 0
      },
      "text/plain": [
       "VBox(children=(Tab(children=(Tab(children=(GridBox(children=(VBox(children=(GridspecLayout(children=(HTML(valu…"
      ]
     },
     "metadata": {},
     "output_type": "display_data"
    }
   ],
   "source": [
    "profile.to_widgets()"
   ]
  },
  {
   "cell_type": "code",
   "execution_count": 146,
   "id": "fifth-experiment",
   "metadata": {},
   "outputs": [
    {
     "data": {
      "text/plain": [
       "Int64Index([ 203, 1570, 1689, 2395, 2420, 2423, 2457, 2460, 2461, 2465,\n",
       "            ...\n",
       "            4930, 4931, 4932, 4933, 4934, 4935, 4992, 5034, 5643, 6713],\n",
       "           dtype='int64', length=131)"
      ]
     },
     "execution_count": 146,
     "metadata": {},
     "output_type": "execute_result"
    }
   ],
   "source": [
    "# Inspecting my NaN rows\n",
    "\n",
    "# getting index of nan rows\n",
    "nan_indexes = data['Heading Text'][(data.isna()['Heading Text'] == True)].index\n",
    "\n",
    "nan_indexes\n"
   ]
  },
  {
   "cell_type": "code",
   "execution_count": 147,
   "id": "amino-mileage",
   "metadata": {},
   "outputs": [
    {
     "data": {
      "text/html": [
       "<div>\n",
       "<style scoped>\n",
       "    .dataframe tbody tr th:only-of-type {\n",
       "        vertical-align: middle;\n",
       "    }\n",
       "\n",
       "    .dataframe tbody tr th {\n",
       "        vertical-align: top;\n",
       "    }\n",
       "\n",
       "    .dataframe thead th {\n",
       "        text-align: right;\n",
       "    }\n",
       "</style>\n",
       "<table border=\"1\" class=\"dataframe\">\n",
       "  <thead>\n",
       "    <tr style=\"text-align: right;\">\n",
       "      <th></th>\n",
       "      <th>ID</th>\n",
       "      <th>Heading Text</th>\n",
       "      <th>Heading Title</th>\n",
       "      <th>Frequency</th>\n",
       "      <th>Person/Job/Org/None</th>\n",
       "    </tr>\n",
       "  </thead>\n",
       "  <tbody>\n",
       "    <tr>\n",
       "      <th>203</th>\n",
       "      <td>1123</td>\n",
       "      <td>NaN</td>\n",
       "      <td>preferred qualifications</td>\n",
       "      <td>138</td>\n",
       "      <td>Person</td>\n",
       "    </tr>\n",
       "    <tr>\n",
       "      <th>1570</th>\n",
       "      <td>892</td>\n",
       "      <td>NaN</td>\n",
       "      <td>job duties</td>\n",
       "      <td>2</td>\n",
       "      <td>Job</td>\n",
       "    </tr>\n",
       "    <tr>\n",
       "      <th>1689</th>\n",
       "      <td>1123</td>\n",
       "      <td>NaN</td>\n",
       "      <td>required qualifications</td>\n",
       "      <td>50</td>\n",
       "      <td>Person</td>\n",
       "    </tr>\n",
       "    <tr>\n",
       "      <th>2395</th>\n",
       "      <td>86</td>\n",
       "      <td>NaN</td>\n",
       "      <td>qualifications</td>\n",
       "      <td>310</td>\n",
       "      <td>Person</td>\n",
       "    </tr>\n",
       "    <tr>\n",
       "      <th>2420</th>\n",
       "      <td>229</td>\n",
       "      <td>NaN</td>\n",
       "      <td>qualifications</td>\n",
       "      <td>310</td>\n",
       "      <td>Person</td>\n",
       "    </tr>\n",
       "    <tr>\n",
       "      <th>...</th>\n",
       "      <td>...</td>\n",
       "      <td>...</td>\n",
       "      <td>...</td>\n",
       "      <td>...</td>\n",
       "      <td>...</td>\n",
       "    </tr>\n",
       "    <tr>\n",
       "      <th>4935</th>\n",
       "      <td>1697</td>\n",
       "      <td>NaN</td>\n",
       "      <td>job id</td>\n",
       "      <td>111</td>\n",
       "      <td>None</td>\n",
       "    </tr>\n",
       "    <tr>\n",
       "      <th>4992</th>\n",
       "      <td>558</td>\n",
       "      <td>NaN</td>\n",
       "      <td>experience</td>\n",
       "      <td>42</td>\n",
       "      <td>Person</td>\n",
       "    </tr>\n",
       "    <tr>\n",
       "      <th>5034</th>\n",
       "      <td>1673</td>\n",
       "      <td>NaN</td>\n",
       "      <td>experience</td>\n",
       "      <td>42</td>\n",
       "      <td>Person</td>\n",
       "    </tr>\n",
       "    <tr>\n",
       "      <th>5643</th>\n",
       "      <td>1595</td>\n",
       "      <td>NaN</td>\n",
       "      <td>physical requirements</td>\n",
       "      <td>6</td>\n",
       "      <td>Job</td>\n",
       "    </tr>\n",
       "    <tr>\n",
       "      <th>6713</th>\n",
       "      <td>1665</td>\n",
       "      <td>NaN</td>\n",
       "      <td>bachelors degree required</td>\n",
       "      <td>3</td>\n",
       "      <td>Person</td>\n",
       "    </tr>\n",
       "  </tbody>\n",
       "</table>\n",
       "<p>131 rows × 5 columns</p>\n",
       "</div>"
      ],
      "text/plain": [
       "        ID Heading Text              Heading Title  Frequency  \\\n",
       "203   1123          NaN   preferred qualifications        138   \n",
       "1570   892          NaN                 job duties          2   \n",
       "1689  1123          NaN    required qualifications         50   \n",
       "2395    86          NaN             qualifications        310   \n",
       "2420   229          NaN             qualifications        310   \n",
       "...    ...          ...                        ...        ...   \n",
       "4935  1697          NaN                     job id        111   \n",
       "4992   558          NaN                 experience         42   \n",
       "5034  1673          NaN                 experience         42   \n",
       "5643  1595          NaN      physical requirements          6   \n",
       "6713  1665          NaN  bachelors degree required          3   \n",
       "\n",
       "     Person/Job/Org/None  \n",
       "203               Person  \n",
       "1570                 Job  \n",
       "1689              Person  \n",
       "2395              Person  \n",
       "2420              Person  \n",
       "...                  ...  \n",
       "4935                None  \n",
       "4992              Person  \n",
       "5034              Person  \n",
       "5643                 Job  \n",
       "6713              Person  \n",
       "\n",
       "[131 rows x 5 columns]"
      ]
     },
     "execution_count": 147,
     "metadata": {},
     "output_type": "execute_result"
    }
   ],
   "source": [
    "data.filter(nan_indexes, axis = 0)"
   ]
  },
  {
   "cell_type": "code",
   "execution_count": 148,
   "id": "right-account",
   "metadata": {},
   "outputs": [],
   "source": [
    "# Pretty sure its safe to drop them\n",
    "data = data.dropna()"
   ]
  },
  {
   "cell_type": "code",
   "execution_count": 149,
   "id": "sublime-option",
   "metadata": {},
   "outputs": [],
   "source": [
    "from sklearn.feature_extraction.text import TfidfVectorizer\n",
    "\n",
    "def to_tfidf_df(corpus, ngram_range = (1,2)):\n",
    "    vectorizer = TfidfVectorizer(ngram_range = ngram_range)\n",
    "    X = vectorizer.fit_transform(corpus)\n",
    "    return X, pd.DataFrame(columns = vectorizer.get_feature_names(), data = X.toarray())"
   ]
  },
  {
   "cell_type": "code",
   "execution_count": 150,
   "id": "according-paradise",
   "metadata": {},
   "outputs": [],
   "source": [
    "X, tfidf_df = to_tfidf_df(data['Heading Text'], ngram_range = (1,2))"
   ]
  },
  {
   "cell_type": "code",
   "execution_count": 151,
   "id": "rocky-chest",
   "metadata": {},
   "outputs": [
    {
     "data": {
      "text/html": [
       "<div>\n",
       "<style scoped>\n",
       "    .dataframe tbody tr th:only-of-type {\n",
       "        vertical-align: middle;\n",
       "    }\n",
       "\n",
       "    .dataframe tbody tr th {\n",
       "        vertical-align: top;\n",
       "    }\n",
       "\n",
       "    .dataframe thead th {\n",
       "        text-align: right;\n",
       "    }\n",
       "</style>\n",
       "<table border=\"1\" class=\"dataframe\">\n",
       "  <thead>\n",
       "    <tr style=\"text-align: right;\">\n",
       "      <th></th>\n",
       "      <th>ab</th>\n",
       "      <th>ab test</th>\n",
       "      <th>abbott</th>\n",
       "      <th>abbott good</th>\n",
       "      <th>abi</th>\n",
       "      <th>abi product</th>\n",
       "      <th>abilities</th>\n",
       "      <th>abilities competencies</th>\n",
       "      <th>abilities excellent</th>\n",
       "      <th>abilities mathematical</th>\n",
       "      <th>...</th>\n",
       "      <th>zoom product</th>\n",
       "      <th>zs</th>\n",
       "      <th>zs careers</th>\n",
       "      <th>zs stakeholders</th>\n",
       "      <th>zsfg</th>\n",
       "      <th>zuckerberg</th>\n",
       "      <th>zuckerberg san</th>\n",
       "      <th>zynga</th>\n",
       "      <th>zynga provides</th>\n",
       "      <th>zynga stock</th>\n",
       "    </tr>\n",
       "  </thead>\n",
       "  <tbody>\n",
       "    <tr>\n",
       "      <th>0</th>\n",
       "      <td>0.0</td>\n",
       "      <td>0.0</td>\n",
       "      <td>0.0</td>\n",
       "      <td>0.0</td>\n",
       "      <td>0.0</td>\n",
       "      <td>0.0</td>\n",
       "      <td>0.0</td>\n",
       "      <td>0.0</td>\n",
       "      <td>0.0</td>\n",
       "      <td>0.0</td>\n",
       "      <td>...</td>\n",
       "      <td>0.0</td>\n",
       "      <td>0.0</td>\n",
       "      <td>0.0</td>\n",
       "      <td>0.0</td>\n",
       "      <td>0.0</td>\n",
       "      <td>0.0</td>\n",
       "      <td>0.0</td>\n",
       "      <td>0.0</td>\n",
       "      <td>0.0</td>\n",
       "      <td>0.0</td>\n",
       "    </tr>\n",
       "    <tr>\n",
       "      <th>1</th>\n",
       "      <td>0.0</td>\n",
       "      <td>0.0</td>\n",
       "      <td>0.0</td>\n",
       "      <td>0.0</td>\n",
       "      <td>0.0</td>\n",
       "      <td>0.0</td>\n",
       "      <td>0.0</td>\n",
       "      <td>0.0</td>\n",
       "      <td>0.0</td>\n",
       "      <td>0.0</td>\n",
       "      <td>...</td>\n",
       "      <td>0.0</td>\n",
       "      <td>0.0</td>\n",
       "      <td>0.0</td>\n",
       "      <td>0.0</td>\n",
       "      <td>0.0</td>\n",
       "      <td>0.0</td>\n",
       "      <td>0.0</td>\n",
       "      <td>0.0</td>\n",
       "      <td>0.0</td>\n",
       "      <td>0.0</td>\n",
       "    </tr>\n",
       "    <tr>\n",
       "      <th>2</th>\n",
       "      <td>0.0</td>\n",
       "      <td>0.0</td>\n",
       "      <td>0.0</td>\n",
       "      <td>0.0</td>\n",
       "      <td>0.0</td>\n",
       "      <td>0.0</td>\n",
       "      <td>0.0</td>\n",
       "      <td>0.0</td>\n",
       "      <td>0.0</td>\n",
       "      <td>0.0</td>\n",
       "      <td>...</td>\n",
       "      <td>0.0</td>\n",
       "      <td>0.0</td>\n",
       "      <td>0.0</td>\n",
       "      <td>0.0</td>\n",
       "      <td>0.0</td>\n",
       "      <td>0.0</td>\n",
       "      <td>0.0</td>\n",
       "      <td>0.0</td>\n",
       "      <td>0.0</td>\n",
       "      <td>0.0</td>\n",
       "    </tr>\n",
       "    <tr>\n",
       "      <th>3</th>\n",
       "      <td>0.0</td>\n",
       "      <td>0.0</td>\n",
       "      <td>0.0</td>\n",
       "      <td>0.0</td>\n",
       "      <td>0.0</td>\n",
       "      <td>0.0</td>\n",
       "      <td>0.0</td>\n",
       "      <td>0.0</td>\n",
       "      <td>0.0</td>\n",
       "      <td>0.0</td>\n",
       "      <td>...</td>\n",
       "      <td>0.0</td>\n",
       "      <td>0.0</td>\n",
       "      <td>0.0</td>\n",
       "      <td>0.0</td>\n",
       "      <td>0.0</td>\n",
       "      <td>0.0</td>\n",
       "      <td>0.0</td>\n",
       "      <td>0.0</td>\n",
       "      <td>0.0</td>\n",
       "      <td>0.0</td>\n",
       "    </tr>\n",
       "    <tr>\n",
       "      <th>4</th>\n",
       "      <td>0.0</td>\n",
       "      <td>0.0</td>\n",
       "      <td>0.0</td>\n",
       "      <td>0.0</td>\n",
       "      <td>0.0</td>\n",
       "      <td>0.0</td>\n",
       "      <td>0.0</td>\n",
       "      <td>0.0</td>\n",
       "      <td>0.0</td>\n",
       "      <td>0.0</td>\n",
       "      <td>...</td>\n",
       "      <td>0.0</td>\n",
       "      <td>0.0</td>\n",
       "      <td>0.0</td>\n",
       "      <td>0.0</td>\n",
       "      <td>0.0</td>\n",
       "      <td>0.0</td>\n",
       "      <td>0.0</td>\n",
       "      <td>0.0</td>\n",
       "      <td>0.0</td>\n",
       "      <td>0.0</td>\n",
       "    </tr>\n",
       "    <tr>\n",
       "      <th>...</th>\n",
       "      <td>...</td>\n",
       "      <td>...</td>\n",
       "      <td>...</td>\n",
       "      <td>...</td>\n",
       "      <td>...</td>\n",
       "      <td>...</td>\n",
       "      <td>...</td>\n",
       "      <td>...</td>\n",
       "      <td>...</td>\n",
       "      <td>...</td>\n",
       "      <td>...</td>\n",
       "      <td>...</td>\n",
       "      <td>...</td>\n",
       "      <td>...</td>\n",
       "      <td>...</td>\n",
       "      <td>...</td>\n",
       "      <td>...</td>\n",
       "      <td>...</td>\n",
       "      <td>...</td>\n",
       "      <td>...</td>\n",
       "      <td>...</td>\n",
       "    </tr>\n",
       "    <tr>\n",
       "      <th>5315</th>\n",
       "      <td>0.0</td>\n",
       "      <td>0.0</td>\n",
       "      <td>0.0</td>\n",
       "      <td>0.0</td>\n",
       "      <td>0.0</td>\n",
       "      <td>0.0</td>\n",
       "      <td>0.0</td>\n",
       "      <td>0.0</td>\n",
       "      <td>0.0</td>\n",
       "      <td>0.0</td>\n",
       "      <td>...</td>\n",
       "      <td>0.0</td>\n",
       "      <td>0.0</td>\n",
       "      <td>0.0</td>\n",
       "      <td>0.0</td>\n",
       "      <td>0.0</td>\n",
       "      <td>0.0</td>\n",
       "      <td>0.0</td>\n",
       "      <td>0.0</td>\n",
       "      <td>0.0</td>\n",
       "      <td>0.0</td>\n",
       "    </tr>\n",
       "    <tr>\n",
       "      <th>5316</th>\n",
       "      <td>0.0</td>\n",
       "      <td>0.0</td>\n",
       "      <td>0.0</td>\n",
       "      <td>0.0</td>\n",
       "      <td>0.0</td>\n",
       "      <td>0.0</td>\n",
       "      <td>0.0</td>\n",
       "      <td>0.0</td>\n",
       "      <td>0.0</td>\n",
       "      <td>0.0</td>\n",
       "      <td>...</td>\n",
       "      <td>0.0</td>\n",
       "      <td>0.0</td>\n",
       "      <td>0.0</td>\n",
       "      <td>0.0</td>\n",
       "      <td>0.0</td>\n",
       "      <td>0.0</td>\n",
       "      <td>0.0</td>\n",
       "      <td>0.0</td>\n",
       "      <td>0.0</td>\n",
       "      <td>0.0</td>\n",
       "    </tr>\n",
       "    <tr>\n",
       "      <th>5317</th>\n",
       "      <td>0.0</td>\n",
       "      <td>0.0</td>\n",
       "      <td>0.0</td>\n",
       "      <td>0.0</td>\n",
       "      <td>0.0</td>\n",
       "      <td>0.0</td>\n",
       "      <td>0.0</td>\n",
       "      <td>0.0</td>\n",
       "      <td>0.0</td>\n",
       "      <td>0.0</td>\n",
       "      <td>...</td>\n",
       "      <td>0.0</td>\n",
       "      <td>0.0</td>\n",
       "      <td>0.0</td>\n",
       "      <td>0.0</td>\n",
       "      <td>0.0</td>\n",
       "      <td>0.0</td>\n",
       "      <td>0.0</td>\n",
       "      <td>0.0</td>\n",
       "      <td>0.0</td>\n",
       "      <td>0.0</td>\n",
       "    </tr>\n",
       "    <tr>\n",
       "      <th>5318</th>\n",
       "      <td>0.0</td>\n",
       "      <td>0.0</td>\n",
       "      <td>0.0</td>\n",
       "      <td>0.0</td>\n",
       "      <td>0.0</td>\n",
       "      <td>0.0</td>\n",
       "      <td>0.0</td>\n",
       "      <td>0.0</td>\n",
       "      <td>0.0</td>\n",
       "      <td>0.0</td>\n",
       "      <td>...</td>\n",
       "      <td>0.0</td>\n",
       "      <td>0.0</td>\n",
       "      <td>0.0</td>\n",
       "      <td>0.0</td>\n",
       "      <td>0.0</td>\n",
       "      <td>0.0</td>\n",
       "      <td>0.0</td>\n",
       "      <td>0.0</td>\n",
       "      <td>0.0</td>\n",
       "      <td>0.0</td>\n",
       "    </tr>\n",
       "    <tr>\n",
       "      <th>5319</th>\n",
       "      <td>0.0</td>\n",
       "      <td>0.0</td>\n",
       "      <td>0.0</td>\n",
       "      <td>0.0</td>\n",
       "      <td>0.0</td>\n",
       "      <td>0.0</td>\n",
       "      <td>0.0</td>\n",
       "      <td>0.0</td>\n",
       "      <td>0.0</td>\n",
       "      <td>0.0</td>\n",
       "      <td>...</td>\n",
       "      <td>0.0</td>\n",
       "      <td>0.0</td>\n",
       "      <td>0.0</td>\n",
       "      <td>0.0</td>\n",
       "      <td>0.0</td>\n",
       "      <td>0.0</td>\n",
       "      <td>0.0</td>\n",
       "      <td>0.0</td>\n",
       "      <td>0.0</td>\n",
       "      <td>0.0</td>\n",
       "    </tr>\n",
       "  </tbody>\n",
       "</table>\n",
       "<p>5320 rows × 53312 columns</p>\n",
       "</div>"
      ],
      "text/plain": [
       "       ab  ab test  abbott  abbott good  abi  abi product  abilities  \\\n",
       "0     0.0      0.0     0.0          0.0  0.0          0.0        0.0   \n",
       "1     0.0      0.0     0.0          0.0  0.0          0.0        0.0   \n",
       "2     0.0      0.0     0.0          0.0  0.0          0.0        0.0   \n",
       "3     0.0      0.0     0.0          0.0  0.0          0.0        0.0   \n",
       "4     0.0      0.0     0.0          0.0  0.0          0.0        0.0   \n",
       "...   ...      ...     ...          ...  ...          ...        ...   \n",
       "5315  0.0      0.0     0.0          0.0  0.0          0.0        0.0   \n",
       "5316  0.0      0.0     0.0          0.0  0.0          0.0        0.0   \n",
       "5317  0.0      0.0     0.0          0.0  0.0          0.0        0.0   \n",
       "5318  0.0      0.0     0.0          0.0  0.0          0.0        0.0   \n",
       "5319  0.0      0.0     0.0          0.0  0.0          0.0        0.0   \n",
       "\n",
       "      abilities competencies  abilities excellent  abilities mathematical  \\\n",
       "0                        0.0                  0.0                     0.0   \n",
       "1                        0.0                  0.0                     0.0   \n",
       "2                        0.0                  0.0                     0.0   \n",
       "3                        0.0                  0.0                     0.0   \n",
       "4                        0.0                  0.0                     0.0   \n",
       "...                      ...                  ...                     ...   \n",
       "5315                     0.0                  0.0                     0.0   \n",
       "5316                     0.0                  0.0                     0.0   \n",
       "5317                     0.0                  0.0                     0.0   \n",
       "5318                     0.0                  0.0                     0.0   \n",
       "5319                     0.0                  0.0                     0.0   \n",
       "\n",
       "      ...  zoom product   zs  zs careers  zs stakeholders  zsfg  zuckerberg  \\\n",
       "0     ...           0.0  0.0         0.0              0.0   0.0         0.0   \n",
       "1     ...           0.0  0.0         0.0              0.0   0.0         0.0   \n",
       "2     ...           0.0  0.0         0.0              0.0   0.0         0.0   \n",
       "3     ...           0.0  0.0         0.0              0.0   0.0         0.0   \n",
       "4     ...           0.0  0.0         0.0              0.0   0.0         0.0   \n",
       "...   ...           ...  ...         ...              ...   ...         ...   \n",
       "5315  ...           0.0  0.0         0.0              0.0   0.0         0.0   \n",
       "5316  ...           0.0  0.0         0.0              0.0   0.0         0.0   \n",
       "5317  ...           0.0  0.0         0.0              0.0   0.0         0.0   \n",
       "5318  ...           0.0  0.0         0.0              0.0   0.0         0.0   \n",
       "5319  ...           0.0  0.0         0.0              0.0   0.0         0.0   \n",
       "\n",
       "      zuckerberg san  zynga  zynga provides  zynga stock  \n",
       "0                0.0    0.0             0.0          0.0  \n",
       "1                0.0    0.0             0.0          0.0  \n",
       "2                0.0    0.0             0.0          0.0  \n",
       "3                0.0    0.0             0.0          0.0  \n",
       "4                0.0    0.0             0.0          0.0  \n",
       "...              ...    ...             ...          ...  \n",
       "5315             0.0    0.0             0.0          0.0  \n",
       "5316             0.0    0.0             0.0          0.0  \n",
       "5317             0.0    0.0             0.0          0.0  \n",
       "5318             0.0    0.0             0.0          0.0  \n",
       "5319             0.0    0.0             0.0          0.0  \n",
       "\n",
       "[5320 rows x 53312 columns]"
      ]
     },
     "execution_count": 151,
     "metadata": {},
     "output_type": "execute_result"
    }
   ],
   "source": [
    "tfidf_df"
   ]
  },
  {
   "cell_type": "code",
   "execution_count": 152,
   "id": "premier-atlas",
   "metadata": {},
   "outputs": [
    {
     "data": {
      "text/plain": [
       "homeless services        0.034376\n",
       "standards best           0.034376\n",
       "advisory committees      0.034376\n",
       "request proposals        0.034376\n",
       "met collect              0.034376\n",
       "                          ...    \n",
       "business                75.297494\n",
       "science                 84.324998\n",
       "degree                  86.561460\n",
       "experience             104.253376\n",
       "data                   148.675765\n",
       "Length: 53312, dtype: float64"
      ]
     },
     "execution_count": 152,
     "metadata": {},
     "output_type": "execute_result"
    }
   ],
   "source": [
    "# Seeing words\n",
    "tfidf_df.sum().sort_values()"
   ]
  },
  {
   "cell_type": "code",
   "execution_count": 153,
   "id": "adequate-malaysia",
   "metadata": {},
   "outputs": [],
   "source": [
    "y = data['Person/Job/Org/None']"
   ]
  },
  {
   "cell_type": "code",
   "execution_count": 154,
   "id": "powered-april",
   "metadata": {},
   "outputs": [
    {
     "data": {
      "text/plain": [
       "Job       2189\n",
       "Person    1931\n",
       "Org        753\n",
       "None       447\n",
       "Name: Person/Job/Org/None, dtype: int64"
      ]
     },
     "execution_count": 154,
     "metadata": {},
     "output_type": "execute_result"
    }
   ],
   "source": [
    "y.value_counts()"
   ]
  },
  {
   "cell_type": "code",
   "execution_count": 155,
   "id": "practical-tuesday",
   "metadata": {},
   "outputs": [
    {
     "data": {
      "text/plain": [
       "<5320x53312 sparse matrix of type '<class 'numpy.float64'>'\n",
       "\twith 199922 stored elements in Compressed Sparse Row format>"
      ]
     },
     "metadata": {},
     "output_type": "display_data"
    },
    {
     "data": {
      "text/plain": [
       "0          Job\n",
       "1          Job\n",
       "2          Job\n",
       "3          Job\n",
       "4          Job\n",
       "         ...  \n",
       "7158       Job\n",
       "7159       Job\n",
       "7187    Person\n",
       "7188    Person\n",
       "7196    Person\n",
       "Name: Person/Job/Org/None, Length: 5320, dtype: object"
      ]
     },
     "metadata": {},
     "output_type": "display_data"
    },
    {
     "data": {
      "text/plain": [
       "(None, None)"
      ]
     },
     "execution_count": 155,
     "metadata": {},
     "output_type": "execute_result"
    }
   ],
   "source": [
    "display(X),display(y)"
   ]
  },
  {
   "cell_type": "code",
   "execution_count": 156,
   "id": "supported-works",
   "metadata": {},
   "outputs": [
    {
     "data": {
      "text/plain": [
       "array([[ 0.,  0.,  5., ...,  0.,  0.,  0.],\n",
       "       [ 0.,  0.,  0., ..., 10.,  0.,  0.],\n",
       "       [ 0.,  0.,  0., ..., 16.,  9.,  0.],\n",
       "       ...,\n",
       "       [ 0.,  0.,  1., ...,  6.,  0.,  0.],\n",
       "       [ 0.,  0.,  2., ..., 12.,  0.,  0.],\n",
       "       [ 0.,  0., 10., ..., 12.,  1.,  0.]])"
      ]
     },
     "metadata": {},
     "output_type": "display_data"
    },
    {
     "data": {
      "text/plain": [
       "array([0, 1, 2, ..., 8, 9, 8])"
      ]
     },
     "metadata": {},
     "output_type": "display_data"
    },
    {
     "data": {
      "text/plain": [
       "(None, None)"
      ]
     },
     "execution_count": 156,
     "metadata": {},
     "output_type": "execute_result"
    }
   ],
   "source": [
    "from sklearn import datasets\n",
    "X_digits, y_digits = datasets.load_digits(return_X_y=True)\n",
    "display(X_digits), display(y_digits)"
   ]
  },
  {
   "cell_type": "code",
   "execution_count": 157,
   "id": "ranging-glory",
   "metadata": {},
   "outputs": [],
   "source": [
    "\n",
    "from sklearn.pipeline import Pipeline\n",
    "from sklearn.model_selection import train_test_split\n",
    "from sklearn.model_selection import GridSearchCV\n",
    "from sklearn.linear_model import LogisticRegression\n",
    "import numpy as np\n",
    "\n",
    "class LogReg():\n",
    "    def __init__(self, cv_folds = 5):\n",
    "        ''' LR hyperparamaeter initializations'''\n",
    "        self.C = np.logspace(-3,3,7)\n",
    "        self.cv_folds = cv_folds,\n",
    "        self.penalty = [\"l2\"]\n",
    "\n",
    "    def train_test_split(self, X, y):\n",
    "        # Focusing on the inbound text\n",
    "        # Splitting, with stratify param for class balance\n",
    "        X_train, X_test, y_train, y_test = train_test_split(X,y,test_size = 0.33, \n",
    "                                                            random_state = 25, stratify = y)\n",
    "        return X_train, X_test, y_train, y_test\n",
    "    \n",
    "    def lr_pipeline(self, X_train, y_train):\n",
    "        ''' Using the training data to train my Random Forest model '''\n",
    "        # Initializing my pipeline\n",
    "        estimators = [('model', LogisticRegression())]\n",
    "\n",
    "        pipe = Pipeline(steps = estimators)\n",
    "\n",
    "        # These are the hyperparamaters and models I want to tune\n",
    "        param_grid = {'model': [LogisticRegression()], \n",
    "                    'model__C': self.C,\n",
    "                      'model__penalty': self.penalty}\n",
    "        # 5 fold cross validation\n",
    "        search = GridSearchCV(pipe, param_grid, verbose = 3, n_jobs = -1)\n",
    "\n",
    "        search.fit(X_train, y_train)\n",
    "        \n",
    "        print(\"Best parameter (CV score=%0.3f):\" % search.best_score_)\n",
    "        print(search.best_params_)\n",
    "        \n",
    "        return search\n",
    "    \n",
    "    \n",
    "    def save_model(self, fitted_grid, save_directory_path: str):\n",
    "        from sklearn.externals import joblib\n",
    "        import datetime\n",
    "\n",
    "        # getting string of now\n",
    "        now = str(datetime.datetime.now())[:16]\n",
    "\n",
    "        # Saving it because it took some time to run\n",
    "        joblib.dump(fitted_grid, f'{save_directory_path}/lr_{now}.pkl', compress=1)\n",
    "    \n",
    "    def get_results(self, fitted_grid):\n",
    "        ''' Here we have a dataframe of all the fits under the different hyperparamaters '''\n",
    "        return pd.DataFrame(fitted_grid.cv_results_).sort_values('mean_test_score', ascending = False)\n",
    "\n",
    "    def get_best_model(self, fitted_grid):\n",
    "        ''' Here we get the best model from the grid '''\n",
    "        return fitted_grid.best_estimator_\n",
    "    \n",
    "    def evaluate_model(self, X_train, y_train, X_test, y_test, fitted_grid):\n",
    "        ''' Here we evaluate the model:\n",
    "        Prints out the classification report and displays a confusion matrix.\n",
    "         '''\n",
    "        from sklearn.metrics import ConfusionMatrixDisplay\n",
    "        from sklearn.metrics import classification_report\n",
    "        from sklearn.metrics import f1_score\n",
    "        from sklearn.metrics import confusion_matrix\n",
    "        import matplotlib.pyplot as plt\n",
    "\n",
    "        plt.style.use('default')\n",
    "\n",
    "        # We use the best estimator of the grid for evaluatoin\n",
    "        best_model = fitted_grid.best_estimator_[0]\n",
    "\n",
    "            # Scoring the model\n",
    "        print(f'Score on train: {best_model.score(X_train, y_train)}')\n",
    "        print(f'Score on test: {best_model.score(X_test, y_test)}')\n",
    "\n",
    "        y_pred = best_model.predict(X_test)\n",
    "        \n",
    "        print('\\nConfusion Matrix:')\n",
    "        cm = confusion_matrix(y_test, y_pred)\n",
    "        plt.figure(figsize = (10,8))\n",
    "        ConfusionMatrixDisplay(cm, display_labels = y_test.unique()).plot(xticks_rotation = 'vertical', \n",
    "                            values_format = 'd')\n",
    "        plt.show()\n",
    "        print('\\nClassification Report:')\n",
    "        print(classification_report(y_test, y_pred))\n",
    "        print('\\nF1 Score:')\n",
    "        print(f1_score(y_test, y_pred, average = None))\n",
    "\n",
    "    def get_feature_importances(self, fitted_grid, save_directory_path: str, feature_names: list) -> pd.DataFrame:\n",
    "        ''' Here we get the feature importances of the model and store it into a dataframe'''\n",
    "        best_estimator = fitted_grid.best_estimator_[0]\n",
    "        importances = pd.DataFrame({\"Feature\": feature_names, \"Feature Importance\": best_estimator.coef_[0]})\n",
    "        importances = importances.sort_values('Feature Importance', ascending = False)\n",
    "\n",
    "        # save the importances df\n",
    "        import datetime\n",
    "\n",
    "        # getting string of now\n",
    "        now = str(datetime.datetime.now())[:16]\n",
    "\n",
    "        importances.to_csv(save_directory_path + f\"{now}.csv\")\n",
    "\n",
    "        return importances\n",
    "\n",
    "    def visualize_feature_importances(self, importances: pd.DataFrame, topn: int = 30, title = \"Feature Importances\") -> None:\n",
    "        import plotly.graph_objects as go\n",
    "        import plotly.offline as pyo\n",
    "        \n",
    "        def bar(x, y, color =\"#FFD700\", title = \"Bar Plot\") -> None:\n",
    "            trace1 = go.Bar(x=x,y=y, marker=dict(color=color))\n",
    "            data = [trace1]\n",
    "            layout = go.Layout(title=title, barmode=\"stack\",\n",
    "                        xaxis = dict(tickangle = 90,\n",
    "                                    showticklabels = True,\n",
    "                                    type = \"category\",\n",
    "                                    dtick = 1))\n",
    "            fig = go.Figure(data = data, layout = layout)\n",
    "            fig.show()\n",
    "        bar(x = importances.head(topn).Feature, y = importances.head(topn)['Feature Importance'],\n",
    "            title = title)\n",
    "\n",
    "    def example_usage(self, df, feature_names, target_name):\n",
    "        ''' Here we apply the common pipeline to the data '''\n",
    "        # Get the features\n",
    "        X = df[feature_names]\n",
    "\n",
    "        # Get the target\n",
    "        y = df[target_name]\n",
    "\n",
    "        # Split the data\n",
    "        X_train, X_test, y_train, y_test = self.train_test_split(X, y)\n",
    "\n",
    "        # Train the model\n",
    "        fitted_grid = self.rf_pipeline(X_train, y_train)\n",
    "\n",
    "        # Save the model\n",
    "        self.save_model(fitted_grid, f'/data/models')\n",
    "\n",
    "        # Evaluate the model\n",
    "        self.evaluate_model(X_train, y_train, X_test, y_test, fitted_grid)\n",
    "\n",
    "        # Get the feature importances\n",
    "        importances = self.get_feature_importances(fitted_grid)\n",
    "\n",
    "        return importances\n"
   ]
  },
  {
   "cell_type": "code",
   "execution_count": 158,
   "id": "continuous-moses",
   "metadata": {},
   "outputs": [],
   "source": [
    "lr = LogReg()\n",
    "\n",
    "# Split the data\n",
    "X_train, X_test, y_train, y_test = lr.train_test_split(X, y)\n"
   ]
  },
  {
   "cell_type": "code",
   "execution_count": 159,
   "id": "domestic-arrow",
   "metadata": {},
   "outputs": [
    {
     "data": {
      "text/plain": [
       "((3564, 53312), (1756, 53312), (3564,), (1756,))"
      ]
     },
     "execution_count": 159,
     "metadata": {},
     "output_type": "execute_result"
    }
   ],
   "source": [
    "X_train.shape, X_test.shape, y_train.shape, y_test.shape"
   ]
  },
  {
   "cell_type": "code",
   "execution_count": 160,
   "id": "sealed-identification",
   "metadata": {},
   "outputs": [
    {
     "data": {
      "text/plain": [
       "211     Person\n",
       "3370       Job\n",
       "3223       Job\n",
       "6938    Person\n",
       "4091      None\n",
       "         ...  \n",
       "2896    Person\n",
       "2744    Person\n",
       "6174       Org\n",
       "498        Job\n",
       "3342       Org\n",
       "Name: Person/Job/Org/None, Length: 3564, dtype: object"
      ]
     },
     "metadata": {},
     "output_type": "display_data"
    },
    {
     "data": {
      "text/plain": [
       "<3564x53312 sparse matrix of type '<class 'numpy.float64'>'\n",
       "\twith 132282 stored elements in Compressed Sparse Row format>"
      ]
     },
     "metadata": {},
     "output_type": "display_data"
    },
    {
     "data": {
      "text/plain": [
       "None"
      ]
     },
     "metadata": {},
     "output_type": "display_data"
    }
   ],
   "source": [
    "display(X_train, display(y_train))"
   ]
  },
  {
   "cell_type": "code",
   "execution_count": 161,
   "id": "presidential-english",
   "metadata": {},
   "outputs": [
    {
     "name": "stdout",
     "output_type": "stream",
     "text": [
      "Training model...\n",
      "Fitting 5 folds for each of 7 candidates, totalling 35 fits\n"
     ]
    },
    {
     "name": "stderr",
     "output_type": "stream",
     "text": [
      "[Parallel(n_jobs=-1)]: Using backend LokyBackend with 8 concurrent workers.\n",
      "/Users/mtaruno/opt/anaconda3/envs/cannon/lib/python3.8/site-packages/joblib/externals/loky/process_executor.py:688: UserWarning:\n",
      "\n",
      "A worker stopped while some jobs were given to the executor. This can be caused by a too short worker timeout or by a memory leak.\n",
      "\n",
      "[Parallel(n_jobs=-1)]: Done  16 tasks      | elapsed:    6.7s\n",
      "[Parallel(n_jobs=-1)]: Done  32 out of  35 | elapsed:   16.5s remaining:    1.5s\n",
      "[Parallel(n_jobs=-1)]: Done  35 out of  35 | elapsed:   17.0s finished\n"
     ]
    },
    {
     "name": "stdout",
     "output_type": "stream",
     "text": [
      "Best parameter (CV score=0.801):\n",
      "{'model': LogisticRegression(C=1.0, class_weight=None, dual=False, fit_intercept=True,\n",
      "                   intercept_scaling=1, l1_ratio=None, max_iter=100,\n",
      "                   multi_class='auto', n_jobs=None, penalty='l2',\n",
      "                   random_state=None, solver='lbfgs', tol=0.0001, verbose=0,\n",
      "                   warm_start=False), 'model__C': 1.0, 'model__penalty': 'l2'}\n"
     ]
    }
   ],
   "source": [
    "\n",
    "# Train the model\n",
    "print(\"Training model...\")\n",
    "fitted_grid = lr.lr_pipeline(X_train, y_train)\n"
   ]
  },
  {
   "cell_type": "code",
   "execution_count": null,
   "id": "intelligent-costume",
   "metadata": {},
   "outputs": [],
   "source": [
    "# Alternative: approach from https://www.kaggle.com/kashnitsky/logistic-regression-tf-idf-baseline/notebook"
   ]
  },
  {
   "cell_type": "code",
   "execution_count": 138,
   "id": "sophisticated-campus",
   "metadata": {},
   "outputs": [],
   "source": [
    "from sklearn.model_selection import cross_val_score, StratifiedKFold\n",
    "\n",
    "\n",
    "logit = LogisticRegression(C=5e1, solver='liblinear', multi_class='multinomial', random_state=17, n_jobs=-1)\n",
    "\n",
    "# Cross Validation\n",
    "skf = StratifiedKFold(n_splits=5, shuffle=True, random_state=17)"
   ]
  },
  {
   "cell_type": "code",
   "execution_count": 139,
   "id": "acting-junction",
   "metadata": {},
   "outputs": [
    {
     "name": "stdout",
     "output_type": "stream",
     "text": [
      "[CV]  ................................................................\n",
      "[CV] ...................................... , score=nan, total=   0.0s\n",
      "[CV]  ................................................................\n",
      "[CV] ...................................... , score=nan, total=   0.0s\n",
      "[CV]  ................................................................\n",
      "[CV] ...................................... , score=nan, total=   0.0s\n",
      "[CV]  ................................................................\n",
      "[CV] ...................................... , score=nan, total=   0.0s\n",
      "[CV]  ................................................................\n",
      "[CV] ...................................... , score=nan, total=   0.0s\n",
      "CPU times: user 33 ms, sys: 7.56 ms, total: 40.5 ms\n",
      "Wall time: 43.5 ms\n"
     ]
    },
    {
     "name": "stderr",
     "output_type": "stream",
     "text": [
      "[Parallel(n_jobs=1)]: Using backend SequentialBackend with 1 concurrent workers.\n",
      "/Users/mtaruno/opt/anaconda3/envs/cannon/lib/python3.8/site-packages/sklearn/model_selection/_validation.py:532: FitFailedWarning:\n",
      "\n",
      "Estimator fit failed. The score on this train-test partition for these parameters will be set to nan. Details: \n",
      "ValueError: Solver liblinear does not support a multinomial backend.\n",
      "\n",
      "\n",
      "[Parallel(n_jobs=1)]: Done   1 out of   1 | elapsed:    0.0s remaining:    0.0s\n",
      "[Parallel(n_jobs=1)]: Done   2 out of   2 | elapsed:    0.0s remaining:    0.0s\n",
      "[Parallel(n_jobs=1)]: Done   5 out of   5 | elapsed:    0.0s finished\n"
     ]
    }
   ],
   "source": [
    "%%time\n",
    "cv_results = cross_val_score(logit, X_train, y_train, cv=skf, scoring='f1_micro', verbose = 3)\n",
    "\n"
   ]
  },
  {
   "cell_type": "code",
   "execution_count": 121,
   "id": "expected-upper",
   "metadata": {},
   "outputs": [
    {
     "data": {
      "text/plain": [
       "(array([nan, nan, nan, nan, nan]), nan)"
      ]
     },
     "execution_count": 121,
     "metadata": {},
     "output_type": "execute_result"
    }
   ],
   "source": [
    "cv_results, cv_results.mean()"
   ]
  },
  {
   "cell_type": "code",
   "execution_count": null,
   "id": "hungarian-married",
   "metadata": {},
   "outputs": [],
   "source": [
    "%%time\n",
    "logit.fit(X_train_text, train_val['label'])"
   ]
  },
  {
   "cell_type": "code",
   "execution_count": null,
   "id": "illegal-eligibility",
   "metadata": {},
   "outputs": [],
   "source": [
    "import eli5"
   ]
  },
  {
   "cell_type": "code",
   "execution_count": null,
   "id": "adequate-landing",
   "metadata": {},
   "outputs": [],
   "source": [
    "eli5.show_weights(estimator=logit, \n",
    "                  feature_names= list(text_transformer.get_feature_names()),\n",
    "                 top=(50, 5))"
   ]
  },
  {
   "cell_type": "code",
   "execution_count": 162,
   "id": "developmental-congress",
   "metadata": {},
   "outputs": [
    {
     "name": "stdout",
     "output_type": "stream",
     "text": [
      "Saving model...\n"
     ]
    }
   ],
   "source": [
    "# Save the model\n",
    "print(\"Saving model...\")\n",
    "lr.save_model(fitted_grid, f'/Users/mtaruno/Documents/DevZone/job-research/data/models')\n",
    "\n"
   ]
  },
  {
   "cell_type": "code",
   "execution_count": 163,
   "id": "reasonable-pepper",
   "metadata": {},
   "outputs": [
    {
     "data": {
      "text/plain": [
       "GridSearchCV(cv=None, error_score=nan,\n",
       "             estimator=Pipeline(memory=None,\n",
       "                                steps=[('model',\n",
       "                                        LogisticRegression(C=1.0,\n",
       "                                                           class_weight=None,\n",
       "                                                           dual=False,\n",
       "                                                           fit_intercept=True,\n",
       "                                                           intercept_scaling=1,\n",
       "                                                           l1_ratio=None,\n",
       "                                                           max_iter=100,\n",
       "                                                           multi_class='auto',\n",
       "                                                           n_jobs=None,\n",
       "                                                           penalty='l2',\n",
       "                                                           random_state=None,\n",
       "                                                           solver='lbfgs',\n",
       "                                                           tol=0.0001,\n",
       "                                                           verbose=0,\n",
       "                                                           warm_start=False))],\n",
       "                                verbose=False),\n",
       "             iid='deprecat...\n",
       "                                                      fit_intercept=True,\n",
       "                                                      intercept_scaling=1,\n",
       "                                                      l1_ratio=None,\n",
       "                                                      max_iter=100,\n",
       "                                                      multi_class='auto',\n",
       "                                                      n_jobs=None, penalty='l2',\n",
       "                                                      random_state=None,\n",
       "                                                      solver='lbfgs',\n",
       "                                                      tol=0.0001, verbose=0,\n",
       "                                                      warm_start=False)],\n",
       "                         'model__C': array([1.e-03, 1.e-02, 1.e-01, 1.e+00, 1.e+01, 1.e+02, 1.e+03]),\n",
       "                         'model__penalty': ['l2']},\n",
       "             pre_dispatch='2*n_jobs', refit=True, return_train_score=False,\n",
       "             scoring=None, verbose=3)"
      ]
     },
     "execution_count": 163,
     "metadata": {},
     "output_type": "execute_result"
    }
   ],
   "source": [
    "fitted_grid"
   ]
  },
  {
   "cell_type": "code",
   "execution_count": 164,
   "id": "aquatic-graph",
   "metadata": {},
   "outputs": [
    {
     "name": "stdout",
     "output_type": "stream",
     "text": [
      "Evaluating model...\n",
      "Score on train: 0.9236812570145904\n",
      "Score on test: 0.8171981776765376\n",
      "\n",
      "Confusion Matrix:\n"
     ]
    },
    {
     "data": {
      "text/plain": [
       "<Figure size 1000x800 with 0 Axes>"
      ]
     },
     "metadata": {},
     "output_type": "display_data"
    },
    {
     "data": {
      "image/png": "[encoded data removed]",
      "text/plain": [
       "<Figure size 640x480 with 2 Axes>"
      ]
     },
     "metadata": {},
     "output_type": "display_data"
    },
    {
     "name": "stdout",
     "output_type": "stream",
     "text": [
      "\n",
      "Classification Report:\n",
      "              precision    recall  f1-score   support\n",
      "\n",
      "         Job       0.72      0.93      0.81       722\n",
      "        None       0.93      0.36      0.52       148\n",
      "         Org       0.97      0.64      0.77       249\n",
      "      Person       0.91      0.86      0.89       637\n",
      "\n",
      "    accuracy                           0.82      1756\n",
      "   macro avg       0.88      0.70      0.75      1756\n",
      "weighted avg       0.84      0.82      0.81      1756\n",
      "\n",
      "\n",
      "F1 Score:\n",
      "[0.81432039 0.52427184 0.76997579 0.88514056]\n"
     ]
    }
   ],
   "source": [
    "# Evaluate the model\n",
    "print(\"Evaluating model...\")\n",
    "lr.evaluate_model(X_train, y_train, X_test, y_test, fitted_grid)\n",
    "\n"
   ]
  },
  {
   "cell_type": "code",
   "execution_count": 165,
   "id": "closed-intranet",
   "metadata": {},
   "outputs": [
    {
     "name": "stdout",
     "output_type": "stream",
     "text": [
      "Getting feature importances...\n"
     ]
    },
    {
     "data": {
      "application/vnd.plotly.v1+json": {
       "config": {
        "plotlyServerURL": "https://plot.ly"
       },
       "data": [
        {
         "marker": {
          "color": "#FFD700"
         },
         "type": "bar",
         "x": [
          "data",
          "business",
          "develop",
          "requirements",
          "team",
          "position",
          "role",
          "support",
          "original",
          "design",
          "lead",
          "permanent",
          "regular",
          "models",
          "identify",
          "reporting",
          "build",
          "analysis",
          "analyze",
          "insights",
          "implement",
          "end",
          "internal",
          "responsible",
          "performance",
          "teams",
          "research",
          "stakeholders",
          "scientist",
          "strategy"
         ],
         "y": [
          2.0051521250121738,
          1.8810733529650803,
          1.7132528557593125,
          1.6001604643306289,
          1.5682550697692659,
          1.5264626862103743,
          1.520924890768601,
          1.5037630916098381,
          1.4471826074099914,
          1.4057007733175226,
          1.3654722031171111,
          1.3431037782904467,
          1.2620578369974553,
          1.2449482978046356,
          1.1308434388375235,
          1.1275708333595162,
          1.127538831416876,
          1.0900993335029021,
          1.0697648829635544,
          1.0691173715879463,
          0.9972059996565412,
          0.9807835537078833,
          0.9787917252502097,
          0.9447832787890826,
          0.9317592513349748,
          0.9069391844685952,
          0.9044193178446214,
          0.8943209527140572,
          0.870238671314298,
          0.8657290697815108
         ]
        }
       ],
       "layout": {
        "barmode": "stack",
        "template": {
         "data": {
          "bar": [
           {
            "error_x": {
             "color": "#2a3f5f"
            },
            "error_y": {
             "color": "#2a3f5f"
            },
            "marker": {
             "line": {
              "color": "#E5ECF6",
              "width": 0.5
             }
            },
            "type": "bar"
           }
          ],
          "barpolar": [
           {
            "marker": {
             "line": {
              "color": "#E5ECF6",
              "width": 0.5
             }
            },
            "type": "barpolar"
           }
          ],
          "carpet": [
           {
            "aaxis": {
             "endlinecolor": "#2a3f5f",
             "gridcolor": "white",
             "linecolor": "white",
             "minorgridcolor": "white",
             "startlinecolor": "#2a3f5f"
            },
            "baxis": {
             "endlinecolor": "#2a3f5f",
             "gridcolor": "white",
             "linecolor": "white",
             "minorgridcolor": "white",
             "startlinecolor": "#2a3f5f"
            },
            "type": "carpet"
           }
          ],
          "choropleth": [
           {
            "colorbar": {
             "outlinewidth": 0,
             "ticks": ""
            },
            "type": "choropleth"
           }
          ],
          "contour": [
           {
            "colorbar": {
             "outlinewidth": 0,
             "ticks": ""
            },
            "colorscale": [
             [
              0,
              "#0d0887"
             ],
             [
              0.1111111111111111,
              "#46039f"
             ],
             [
              0.2222222222222222,
              "#7201a8"
             ],
             [
              0.3333333333333333,
              "#9c179e"
             ],
             [
              0.4444444444444444,
              "#bd3786"
             ],
             [
              0.5555555555555556,
              "#d8576b"
             ],
             [
              0.6666666666666666,
              "#ed7953"
             ],
             [
              0.7777777777777778,
              "#fb9f3a"
             ],
             [
              0.8888888888888888,
              "#fdca26"
             ],
             [
              1,
              "#f0f921"
             ]
            ],
            "type": "contour"
           }
          ],
          "contourcarpet": [
           {
            "colorbar": {
             "outlinewidth": 0,
             "ticks": ""
            },
            "type": "contourcarpet"
           }
          ],
          "heatmap": [
           {
            "colorbar": {
             "outlinewidth": 0,
             "ticks": ""
            },
            "colorscale": [
             [
              0,
              "#0d0887"
             ],
             [
              0.1111111111111111,
              "#46039f"
             ],
             [
              0.2222222222222222,
              "#7201a8"
             ],
             [
              0.3333333333333333,
              "#9c179e"
             ],
             [
              0.4444444444444444,
              "#bd3786"
             ],
             [
              0.5555555555555556,
              "#d8576b"
             ],
             [
              0.6666666666666666,
              "#ed7953"
             ],
             [
              0.7777777777777778,
              "#fb9f3a"
             ],
             [
              0.8888888888888888,
              "#fdca26"
             ],
             [
              1,
              "#f0f921"
             ]
            ],
            "type": "heatmap"
           }
          ],
          "heatmapgl": [
           {
            "colorbar": {
             "outlinewidth": 0,
             "ticks": ""
            },
            "colorscale": [
             [
              0,
              "#0d0887"
             ],
             [
              0.1111111111111111,
              "#46039f"
             ],
             [
              0.2222222222222222,
              "#7201a8"
             ],
             [
              0.3333333333333333,
              "#9c179e"
             ],
             [
              0.4444444444444444,
              "#bd3786"
             ],
             [
              0.5555555555555556,
              "#d8576b"
             ],
             [
              0.6666666666666666,
              "#ed7953"
             ],
             [
              0.7777777777777778,
              "#fb9f3a"
             ],
             [
              0.8888888888888888,
              "#fdca26"
             ],
             [
              1,
              "#f0f921"
             ]
            ],
            "type": "heatmapgl"
           }
          ],
          "histogram": [
           {
            "marker": {
             "colorbar": {
              "outlinewidth": 0,
              "ticks": ""
             }
            },
            "type": "histogram"
           }
          ],
          "histogram2d": [
           {
            "colorbar": {
             "outlinewidth": 0,
             "ticks": ""
            },
            "colorscale": [
             [
              0,
              "#0d0887"
             ],
             [
              0.1111111111111111,
              "#46039f"
             ],
             [
              0.2222222222222222,
              "#7201a8"
             ],
             [
              0.3333333333333333,
              "#9c179e"
             ],
             [
              0.4444444444444444,
              "#bd3786"
             ],
             [
              0.5555555555555556,
              "#d8576b"
             ],
             [
              0.6666666666666666,
              "#ed7953"
             ],
             [
              0.7777777777777778,
              "#fb9f3a"
             ],
             [
              0.8888888888888888,
              "#fdca26"
             ],
             [
              1,
              "#f0f921"
             ]
            ],
            "type": "histogram2d"
           }
          ],
          "histogram2dcontour": [
           {
            "colorbar": {
             "outlinewidth": 0,
             "ticks": ""
            },
            "colorscale": [
             [
              0,
              "#0d0887"
             ],
             [
              0.1111111111111111,
              "#46039f"
             ],
             [
              0.2222222222222222,
              "#7201a8"
             ],
             [
              0.3333333333333333,
              "#9c179e"
             ],
             [
              0.4444444444444444,
              "#bd3786"
             ],
             [
              0.5555555555555556,
              "#d8576b"
             ],
             [
              0.6666666666666666,
              "#ed7953"
             ],
             [
              0.7777777777777778,
              "#fb9f3a"
             ],
             [
              0.8888888888888888,
              "#fdca26"
             ],
             [
              1,
              "#f0f921"
             ]
            ],
            "type": "histogram2dcontour"
           }
          ],
          "mesh3d": [
           {
            "colorbar": {
             "outlinewidth": 0,
             "ticks": ""
            },
            "type": "mesh3d"
           }
          ],
          "parcoords": [
           {
            "line": {
             "colorbar": {
              "outlinewidth": 0,
              "ticks": ""
             }
            },
            "type": "parcoords"
           }
          ],
          "pie": [
           {
            "automargin": true,
            "type": "pie"
           }
          ],
          "scatter": [
           {
            "marker": {
             "colorbar": {
              "outlinewidth": 0,
              "ticks": ""
             }
            },
            "type": "scatter"
           }
          ],
          "scatter3d": [
           {
            "line": {
             "colorbar": {
              "outlinewidth": 0,
              "ticks": ""
             }
            },
            "marker": {
             "colorbar": {
              "outlinewidth": 0,
              "ticks": ""
             }
            },
            "type": "scatter3d"
           }
          ],
          "scattercarpet": [
           {
            "marker": {
             "colorbar": {
              "outlinewidth": 0,
              "ticks": ""
             }
            },
            "type": "scattercarpet"
           }
          ],
          "scattergeo": [
           {
            "marker": {
             "colorbar": {
              "outlinewidth": 0,
              "ticks": ""
             }
            },
            "type": "scattergeo"
           }
          ],
          "scattergl": [
           {
            "marker": {
             "colorbar": {
              "outlinewidth": 0,
              "ticks": ""
             }
            },
            "type": "scattergl"
           }
          ],
          "scattermapbox": [
           {
            "marker": {
             "colorbar": {
              "outlinewidth": 0,
              "ticks": ""
             }
            },
            "type": "scattermapbox"
           }
          ],
          "scatterpolar": [
           {
            "marker": {
             "colorbar": {
              "outlinewidth": 0,
              "ticks": ""
             }
            },
            "type": "scatterpolar"
           }
          ],
          "scatterpolargl": [
           {
            "marker": {
             "colorbar": {
              "outlinewidth": 0,
              "ticks": ""
             }
            },
            "type": "scatterpolargl"
           }
          ],
          "scatterternary": [
           {
            "marker": {
             "colorbar": {
              "outlinewidth": 0,
              "ticks": ""
             }
            },
            "type": "scatterternary"
           }
          ],
          "surface": [
           {
            "colorbar": {
             "outlinewidth": 0,
             "ticks": ""
            },
            "colorscale": [
             [
              0,
              "#0d0887"
             ],
             [
              0.1111111111111111,
              "#46039f"
             ],
             [
              0.2222222222222222,
              "#7201a8"
             ],
             [
              0.3333333333333333,
              "#9c179e"
             ],
             [
              0.4444444444444444,
              "#bd3786"
             ],
             [
              0.5555555555555556,
              "#d8576b"
             ],
             [
              0.6666666666666666,
              "#ed7953"
             ],
             [
              0.7777777777777778,
              "#fb9f3a"
             ],
             [
              0.8888888888888888,
              "#fdca26"
             ],
             [
              1,
              "#f0f921"
             ]
            ],
            "type": "surface"
           }
          ],
          "table": [
           {
            "cells": {
             "fill": {
              "color": "#EBF0F8"
             },
             "line": {
              "color": "white"
             }
            },
            "header": {
             "fill": {
              "color": "#C8D4E3"
             },
             "line": {
              "color": "white"
             }
            },
            "type": "table"
           }
          ]
         },
         "layout": {
          "annotationdefaults": {
           "arrowcolor": "#2a3f5f",
           "arrowhead": 0,
           "arrowwidth": 1
          },
          "autotypenumbers": "strict",
          "coloraxis": {
           "colorbar": {
            "outlinewidth": 0,
            "ticks": ""
           }
          },
          "colorscale": {
           "diverging": [
            [
             0,
             "#8e0152"
            ],
            [
             0.1,
             "#c51b7d"
            ],
            [
             0.2,
             "#de77ae"
            ],
            [
             0.3,
             "#f1b6da"
            ],
            [
             0.4,
             "#fde0ef"
            ],
            [
             0.5,
             "#f7f7f7"
            ],
            [
             0.6,
             "#e6f5d0"
            ],
            [
             0.7,
             "#b8e186"
            ],
            [
             0.8,
             "#7fbc41"
            ],
            [
             0.9,
             "#4d9221"
            ],
            [
             1,
             "#276419"
            ]
           ],
           "sequential": [
            [
             0,
             "#0d0887"
            ],
            [
             0.1111111111111111,
             "#46039f"
            ],
            [
             0.2222222222222222,
             "#7201a8"
            ],
            [
             0.3333333333333333,
             "#9c179e"
            ],
            [
             0.4444444444444444,
             "#bd3786"
            ],
            [
             0.5555555555555556,
             "#d8576b"
            ],
            [
             0.6666666666666666,
             "#ed7953"
            ],
            [
             0.7777777777777778,
             "#fb9f3a"
            ],
            [
             0.8888888888888888,
             "#fdca26"
            ],
            [
             1,
             "#f0f921"
            ]
           ],
           "sequentialminus": [
            [
             0,
             "#0d0887"
            ],
            [
             0.1111111111111111,
             "#46039f"
            ],
            [
             0.2222222222222222,
             "#7201a8"
            ],
            [
             0.3333333333333333,
             "#9c179e"
            ],
            [
             0.4444444444444444,
             "#bd3786"
            ],
            [
             0.5555555555555556,
             "#d8576b"
            ],
            [
             0.6666666666666666,
             "#ed7953"
            ],
            [
             0.7777777777777778,
             "#fb9f3a"
            ],
            [
             0.8888888888888888,
             "#fdca26"
            ],
            [
             1,
             "#f0f921"
            ]
           ]
          },
          "colorway": [
           "#636efa",
           "#EF553B",
           "#00cc96",
           "#ab63fa",
           "#FFA15A",
           "#19d3f3",
           "#FF6692",
           "#B6E880",
           "#FF97FF",
           "#FECB52"
          ],
          "font": {
           "color": "#2a3f5f"
          },
          "geo": {
           "bgcolor": "white",
           "lakecolor": "white",
           "landcolor": "#E5ECF6",
           "showlakes": true,
           "showland": true,
           "subunitcolor": "white"
          },
          "hoverlabel": {
           "align": "left"
          },
          "hovermode": "closest",
          "mapbox": {
           "style": "light"
          },
          "paper_bgcolor": "white",
          "plot_bgcolor": "#E5ECF6",
          "polar": {
           "angularaxis": {
            "gridcolor": "white",
            "linecolor": "white",
            "ticks": ""
           },
           "bgcolor": "#E5ECF6",
           "radialaxis": {
            "gridcolor": "white",
            "linecolor": "white",
            "ticks": ""
           }
          },
          "scene": {
           "xaxis": {
            "backgroundcolor": "#E5ECF6",
            "gridcolor": "white",
            "gridwidth": 2,
            "linecolor": "white",
            "showbackground": true,
            "ticks": "",
            "zerolinecolor": "white"
           },
           "yaxis": {
            "backgroundcolor": "#E5ECF6",
            "gridcolor": "white",
            "gridwidth": 2,
            "linecolor": "white",
            "showbackground": true,
            "ticks": "",
            "zerolinecolor": "white"
           },
           "zaxis": {
            "backgroundcolor": "#E5ECF6",
            "gridcolor": "white",
            "gridwidth": 2,
            "linecolor": "white",
            "showbackground": true,
            "ticks": "",
            "zerolinecolor": "white"
           }
          },
          "shapedefaults": {
           "line": {
            "color": "#2a3f5f"
           }
          },
          "ternary": {
           "aaxis": {
            "gridcolor": "white",
            "linecolor": "white",
            "ticks": ""
           },
           "baxis": {
            "gridcolor": "white",
            "linecolor": "white",
            "ticks": ""
           },
           "bgcolor": "#E5ECF6",
           "caxis": {
            "gridcolor": "white",
            "linecolor": "white",
            "ticks": ""
           }
          },
          "title": {
           "x": 0.05
          },
          "xaxis": {
           "automargin": true,
           "gridcolor": "white",
           "linecolor": "white",
           "ticks": "",
           "title": {
            "standoff": 15
           },
           "zerolinecolor": "white",
           "zerolinewidth": 2
          },
          "yaxis": {
           "automargin": true,
           "gridcolor": "white",
           "linecolor": "white",
           "ticks": "",
           "title": {
            "standoff": 15
           },
           "zerolinecolor": "white",
           "zerolinewidth": 2
          }
         }
        },
        "title": {
         "text": "Feature Importances"
        },
        "xaxis": {
         "dtick": 1,
         "showticklabels": true,
         "tickangle": 90,
         "type": "category"
        }
       }
      },
      "text/html": [
       "<div>                            <div id=\"ca831637-0129-46ce-bda5-59283b344578\" class=\"plotly-graph-div\" style=\"height:525px; width:100%;\"></div>            <script type=\"text/javascript\">                require([\"plotly\"], function(Plotly) {                    window.PLOTLYENV=window.PLOTLYENV || {};                                    if (document.getElementById(\"ca831637-0129-46ce-bda5-59283b344578\")) {                    Plotly.newPlot(                        \"ca831637-0129-46ce-bda5-59283b344578\",                        [{\"marker\": {\"color\": \"#FFD700\"}, \"type\": \"bar\", \"x\": [\"data\", \"business\", \"develop\", \"requirements\", \"team\", \"position\", \"role\", \"support\", \"original\", \"design\", \"lead\", \"permanent\", \"regular\", \"models\", \"identify\", \"reporting\", \"build\", \"analysis\", \"analyze\", \"insights\", \"implement\", \"end\", \"internal\", \"responsible\", \"performance\", \"teams\", \"research\", \"stakeholders\", \"scientist\", \"strategy\"], \"y\": [2.0051521250121738, 1.8810733529650803, 1.7132528557593125, 1.6001604643306289, 1.5682550697692659, 1.5264626862103743, 1.520924890768601, 1.5037630916098381, 1.4471826074099914, 1.4057007733175226, 1.3654722031171111, 1.3431037782904467, 1.2620578369974553, 1.2449482978046356, 1.1308434388375235, 1.1275708333595162, 1.127538831416876, 1.0900993335029021, 1.0697648829635544, 1.0691173715879463, 0.9972059996565412, 0.9807835537078833, 0.9787917252502097, 0.9447832787890826, 0.9317592513349748, 0.9069391844685952, 0.9044193178446214, 0.8943209527140572, 0.870238671314298, 0.8657290697815108]}],                        {\"barmode\": \"stack\", \"template\": {\"data\": {\"bar\": [{\"error_x\": {\"color\": \"#2a3f5f\"}, \"error_y\": {\"color\": \"#2a3f5f\"}, \"marker\": {\"line\": {\"color\": \"#E5ECF6\", \"width\": 0.5}}, \"type\": \"bar\"}], \"barpolar\": [{\"marker\": {\"line\": {\"color\": \"#E5ECF6\", \"width\": 0.5}}, \"type\": \"barpolar\"}], \"carpet\": [{\"aaxis\": {\"endlinecolor\": \"#2a3f5f\", \"gridcolor\": \"white\", \"linecolor\": \"white\", \"minorgridcolor\": \"white\", \"startlinecolor\": \"#2a3f5f\"}, \"baxis\": {\"endlinecolor\": \"#2a3f5f\", \"gridcolor\": \"white\", \"linecolor\": \"white\", \"minorgridcolor\": \"white\", \"startlinecolor\": \"#2a3f5f\"}, \"type\": \"carpet\"}], \"choropleth\": [{\"colorbar\": {\"outlinewidth\": 0, \"ticks\": \"\"}, \"type\": \"choropleth\"}], \"contour\": [{\"colorbar\": {\"outlinewidth\": 0, \"ticks\": \"\"}, \"colorscale\": [[0.0, \"#0d0887\"], [0.1111111111111111, \"#46039f\"], [0.2222222222222222, \"#7201a8\"], [0.3333333333333333, \"#9c179e\"], [0.4444444444444444, \"#bd3786\"], [0.5555555555555556, \"#d8576b\"], [0.6666666666666666, \"#ed7953\"], [0.7777777777777778, \"#fb9f3a\"], [0.8888888888888888, \"#fdca26\"], [1.0, \"#f0f921\"]], \"type\": \"contour\"}], \"contourcarpet\": [{\"colorbar\": {\"outlinewidth\": 0, \"ticks\": \"\"}, \"type\": \"contourcarpet\"}], \"heatmap\": [{\"colorbar\": {\"outlinewidth\": 0, \"ticks\": \"\"}, \"colorscale\": [[0.0, \"#0d0887\"], [0.1111111111111111, \"#46039f\"], [0.2222222222222222, \"#7201a8\"], [0.3333333333333333, \"#9c179e\"], [0.4444444444444444, \"#bd3786\"], [0.5555555555555556, \"#d8576b\"], [0.6666666666666666, \"#ed7953\"], [0.7777777777777778, \"#fb9f3a\"], [0.8888888888888888, \"#fdca26\"], [1.0, \"#f0f921\"]], \"type\": \"heatmap\"}], \"heatmapgl\": [{\"colorbar\": {\"outlinewidth\": 0, \"ticks\": \"\"}, \"colorscale\": [[0.0, \"#0d0887\"], [0.1111111111111111, \"#46039f\"], [0.2222222222222222, \"#7201a8\"], [0.3333333333333333, \"#9c179e\"], [0.4444444444444444, \"#bd3786\"], [0.5555555555555556, \"#d8576b\"], [0.6666666666666666, \"#ed7953\"], [0.7777777777777778, \"#fb9f3a\"], [0.8888888888888888, \"#fdca26\"], [1.0, \"#f0f921\"]], \"type\": \"heatmapgl\"}], \"histogram\": [{\"marker\": {\"colorbar\": {\"outlinewidth\": 0, \"ticks\": \"\"}}, \"type\": \"histogram\"}], \"histogram2d\": [{\"colorbar\": {\"outlinewidth\": 0, \"ticks\": \"\"}, \"colorscale\": [[0.0, \"#0d0887\"], [0.1111111111111111, \"#46039f\"], [0.2222222222222222, \"#7201a8\"], [0.3333333333333333, \"#9c179e\"], [0.4444444444444444, \"#bd3786\"], [0.5555555555555556, \"#d8576b\"], [0.6666666666666666, \"#ed7953\"], [0.7777777777777778, \"#fb9f3a\"], [0.8888888888888888, \"#fdca26\"], [1.0, \"#f0f921\"]], \"type\": \"histogram2d\"}], \"histogram2dcontour\": [{\"colorbar\": {\"outlinewidth\": 0, \"ticks\": \"\"}, \"colorscale\": [[0.0, \"#0d0887\"], [0.1111111111111111, \"#46039f\"], [0.2222222222222222, \"#7201a8\"], [0.3333333333333333, \"#9c179e\"], [0.4444444444444444, \"#bd3786\"], [0.5555555555555556, \"#d8576b\"], [0.6666666666666666, \"#ed7953\"], [0.7777777777777778, \"#fb9f3a\"], [0.8888888888888888, \"#fdca26\"], [1.0, \"#f0f921\"]], \"type\": \"histogram2dcontour\"}], \"mesh3d\": [{\"colorbar\": {\"outlinewidth\": 0, \"ticks\": \"\"}, \"type\": \"mesh3d\"}], \"parcoords\": [{\"line\": {\"colorbar\": {\"outlinewidth\": 0, \"ticks\": \"\"}}, \"type\": \"parcoords\"}], \"pie\": [{\"automargin\": true, \"type\": \"pie\"}], \"scatter\": [{\"marker\": {\"colorbar\": {\"outlinewidth\": 0, \"ticks\": \"\"}}, \"type\": \"scatter\"}], \"scatter3d\": [{\"line\": {\"colorbar\": {\"outlinewidth\": 0, \"ticks\": \"\"}}, \"marker\": {\"colorbar\": {\"outlinewidth\": 0, \"ticks\": \"\"}}, \"type\": \"scatter3d\"}], \"scattercarpet\": [{\"marker\": {\"colorbar\": {\"outlinewidth\": 0, \"ticks\": \"\"}}, \"type\": \"scattercarpet\"}], \"scattergeo\": [{\"marker\": {\"colorbar\": {\"outlinewidth\": 0, \"ticks\": \"\"}}, \"type\": \"scattergeo\"}], \"scattergl\": [{\"marker\": {\"colorbar\": {\"outlinewidth\": 0, \"ticks\": \"\"}}, \"type\": \"scattergl\"}], \"scattermapbox\": [{\"marker\": {\"colorbar\": {\"outlinewidth\": 0, \"ticks\": \"\"}}, \"type\": \"scattermapbox\"}], \"scatterpolar\": [{\"marker\": {\"colorbar\": {\"outlinewidth\": 0, \"ticks\": \"\"}}, \"type\": \"scatterpolar\"}], \"scatterpolargl\": [{\"marker\": {\"colorbar\": {\"outlinewidth\": 0, \"ticks\": \"\"}}, \"type\": \"scatterpolargl\"}], \"scatterternary\": [{\"marker\": {\"colorbar\": {\"outlinewidth\": 0, \"ticks\": \"\"}}, \"type\": \"scatterternary\"}], \"surface\": [{\"colorbar\": {\"outlinewidth\": 0, \"ticks\": \"\"}, \"colorscale\": [[0.0, \"#0d0887\"], [0.1111111111111111, \"#46039f\"], [0.2222222222222222, \"#7201a8\"], [0.3333333333333333, \"#9c179e\"], [0.4444444444444444, \"#bd3786\"], [0.5555555555555556, \"#d8576b\"], [0.6666666666666666, \"#ed7953\"], [0.7777777777777778, \"#fb9f3a\"], [0.8888888888888888, \"#fdca26\"], [1.0, \"#f0f921\"]], \"type\": \"surface\"}], \"table\": [{\"cells\": {\"fill\": {\"color\": \"#EBF0F8\"}, \"line\": {\"color\": \"white\"}}, \"header\": {\"fill\": {\"color\": \"#C8D4E3\"}, \"line\": {\"color\": \"white\"}}, \"type\": \"table\"}]}, \"layout\": {\"annotationdefaults\": {\"arrowcolor\": \"#2a3f5f\", \"arrowhead\": 0, \"arrowwidth\": 1}, \"autotypenumbers\": \"strict\", \"coloraxis\": {\"colorbar\": {\"outlinewidth\": 0, \"ticks\": \"\"}}, \"colorscale\": {\"diverging\": [[0, \"#8e0152\"], [0.1, \"#c51b7d\"], [0.2, \"#de77ae\"], [0.3, \"#f1b6da\"], [0.4, \"#fde0ef\"], [0.5, \"#f7f7f7\"], [0.6, \"#e6f5d0\"], [0.7, \"#b8e186\"], [0.8, \"#7fbc41\"], [0.9, \"#4d9221\"], [1, \"#276419\"]], \"sequential\": [[0.0, \"#0d0887\"], [0.1111111111111111, \"#46039f\"], [0.2222222222222222, \"#7201a8\"], [0.3333333333333333, \"#9c179e\"], [0.4444444444444444, \"#bd3786\"], [0.5555555555555556, \"#d8576b\"], [0.6666666666666666, \"#ed7953\"], [0.7777777777777778, \"#fb9f3a\"], [0.8888888888888888, \"#fdca26\"], [1.0, \"#f0f921\"]], \"sequentialminus\": [[0.0, \"#0d0887\"], [0.1111111111111111, \"#46039f\"], [0.2222222222222222, \"#7201a8\"], [0.3333333333333333, \"#9c179e\"], [0.4444444444444444, \"#bd3786\"], [0.5555555555555556, \"#d8576b\"], [0.6666666666666666, \"#ed7953\"], [0.7777777777777778, \"#fb9f3a\"], [0.8888888888888888, \"#fdca26\"], [1.0, \"#f0f921\"]]}, \"colorway\": [\"#636efa\", \"#EF553B\", \"#00cc96\", \"#ab63fa\", \"#FFA15A\", \"#19d3f3\", \"#FF6692\", \"#B6E880\", \"#FF97FF\", \"#FECB52\"], \"font\": {\"color\": \"#2a3f5f\"}, \"geo\": {\"bgcolor\": \"white\", \"lakecolor\": \"white\", \"landcolor\": \"#E5ECF6\", \"showlakes\": true, \"showland\": true, \"subunitcolor\": \"white\"}, \"hoverlabel\": {\"align\": \"left\"}, \"hovermode\": \"closest\", \"mapbox\": {\"style\": \"light\"}, \"paper_bgcolor\": \"white\", \"plot_bgcolor\": \"#E5ECF6\", \"polar\": {\"angularaxis\": {\"gridcolor\": \"white\", \"linecolor\": \"white\", \"ticks\": \"\"}, \"bgcolor\": \"#E5ECF6\", \"radialaxis\": {\"gridcolor\": \"white\", \"linecolor\": \"white\", \"ticks\": \"\"}}, \"scene\": {\"xaxis\": {\"backgroundcolor\": \"#E5ECF6\", \"gridcolor\": \"white\", \"gridwidth\": 2, \"linecolor\": \"white\", \"showbackground\": true, \"ticks\": \"\", \"zerolinecolor\": \"white\"}, \"yaxis\": {\"backgroundcolor\": \"#E5ECF6\", \"gridcolor\": \"white\", \"gridwidth\": 2, \"linecolor\": \"white\", \"showbackground\": true, \"ticks\": \"\", \"zerolinecolor\": \"white\"}, \"zaxis\": {\"backgroundcolor\": \"#E5ECF6\", \"gridcolor\": \"white\", \"gridwidth\": 2, \"linecolor\": \"white\", \"showbackground\": true, \"ticks\": \"\", \"zerolinecolor\": \"white\"}}, \"shapedefaults\": {\"line\": {\"color\": \"#2a3f5f\"}}, \"ternary\": {\"aaxis\": {\"gridcolor\": \"white\", \"linecolor\": \"white\", \"ticks\": \"\"}, \"baxis\": {\"gridcolor\": \"white\", \"linecolor\": \"white\", \"ticks\": \"\"}, \"bgcolor\": \"#E5ECF6\", \"caxis\": {\"gridcolor\": \"white\", \"linecolor\": \"white\", \"ticks\": \"\"}}, \"title\": {\"x\": 0.05}, \"xaxis\": {\"automargin\": true, \"gridcolor\": \"white\", \"linecolor\": \"white\", \"ticks\": \"\", \"title\": {\"standoff\": 15}, \"zerolinecolor\": \"white\", \"zerolinewidth\": 2}, \"yaxis\": {\"automargin\": true, \"gridcolor\": \"white\", \"linecolor\": \"white\", \"ticks\": \"\", \"title\": {\"standoff\": 15}, \"zerolinecolor\": \"white\", \"zerolinewidth\": 2}}}, \"title\": {\"text\": \"Feature Importances\"}, \"xaxis\": {\"dtick\": 1, \"showticklabels\": true, \"tickangle\": 90, \"type\": \"category\"}},                        {\"responsive\": true}                    ).then(function(){\n",
       "                            \n",
       "var gd = document.getElementById('ca831637-0129-46ce-bda5-59283b344578');\n",
       "var x = new MutationObserver(function (mutations, observer) {{\n",
       "        var display = window.getComputedStyle(gd).display;\n",
       "        if (!display || display === 'none') {{\n",
       "            console.log([gd, 'removed!']);\n",
       "            Plotly.purge(gd);\n",
       "            observer.disconnect();\n",
       "        }}\n",
       "}});\n",
       "\n",
       "// Listen for the removal of the full notebook cells\n",
       "var notebookContainer = gd.closest('#notebook-container');\n",
       "if (notebookContainer) {{\n",
       "    x.observe(notebookContainer, {childList: true});\n",
       "}}\n",
       "\n",
       "// Listen for the clearing of the current output cell\n",
       "var outputEl = gd.closest('.output');\n",
       "if (outputEl) {{\n",
       "    x.observe(outputEl, {childList: true});\n",
       "}}\n",
       "\n",
       "                        })                };                });            </script>        </div>"
      ]
     },
     "metadata": {},
     "output_type": "display_data"
    }
   ],
   "source": [
    "# Get the feature importances\n",
    "print(\"Getting feature importances...\")\n",
    "importances = lr.get_feature_importances(fitted_grid, feature_names = tfidf_df.columns.tolist(), save_directory_path = '/Users/mtaruno/Documents/DevZone/job-research/data/artifacts/importances/{}')\n",
    "\n",
    "lr.visualize_feature_importances(importances)"
   ]
  }
 ],
 "metadata": {
  "kernelspec": {
   "display_name": "Python 3",
   "language": "python",
   "name": "python3"
  },
  "language_info": {
   "codemirror_mode": {
    "name": "ipython",
    "version": 3
   },
   "file_extension": ".py",
   "mimetype": "text/x-python",
   "name": "python",
   "nbconvert_exporter": "python",
   "pygments_lexer": "ipython3",
   "version": "3.8.5"
  }
 },
 "nbformat": 4,
 "nbformat_minor": 5
}
