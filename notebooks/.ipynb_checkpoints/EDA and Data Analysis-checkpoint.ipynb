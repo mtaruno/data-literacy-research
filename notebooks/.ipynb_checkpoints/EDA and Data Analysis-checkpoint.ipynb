{
 "cells": [
  {
   "cell_type": "code",
   "execution_count": 1,
   "id": "chubby-participation",
   "metadata": {},
   "outputs": [
    {
     "name": "stdout",
     "output_type": "stream",
     "text": [
      "Versions\n",
      "Pandas: 1.2.1\n",
      "Numpy: 1.20.2\n"
     ]
    }
   ],
   "source": [
    "## All my imports\n",
    "print(\"Versions\")\n",
    "# Data science\n",
    "import pandas as pd\n",
    "print(f\"Pandas: {pd.__version__}\")\n",
    "import numpy as np\n",
    "print(f\"Numpy: {np.__version__}\")\n",
    "# Visualization \n",
    "import seaborn as sns\n",
    "import matplotlib.pyplot as plt\n",
    "sns.set(style=\"ticks\", color_codes=True)\n",
    "import os\n",
    "# Text Stuff\n",
    "from sklearn.feature_extraction.text import CountVectorizer\n",
    "import nltk\n",
    "from nltk.corpus import stopwords\n",
    "import sys\n",
    "sys.path.insert(1, '../')\n",
    "import research\n",
    "\n",
    "# Creating an object where my NLP EDA functions are located\n",
    "nlp = research.nlp_eda()"
   ]
  },
  {
   "cell_type": "markdown",
   "id": "bright-accommodation",
   "metadata": {},
   "source": [
    "### Table of Contents:\n",
    "* [Headings Data](#headings-data)\n",
    "* [Data Cleaning](#data-cleaning)"
   ]
  },
  {
   "cell_type": "code",
   "execution_count": 2,
   "id": "initial-upgrade",
   "metadata": {},
   "outputs": [
    {
     "name": "stdout",
     "output_type": "stream",
     "text": [
      "\u001b[34mOOH\u001b[m\u001b[m                      heading_counts_clean.csv merged_headings_df.csv\r\n",
      "chromedriver             \u001b[34mheadings\u001b[m\u001b[m                 \u001b[34mscraping_results\u001b[m\u001b[m\r\n",
      "\u001b[31mchromedriver2\u001b[m\u001b[m            \u001b[34mlda_results\u001b[m\u001b[m\r\n",
      "heading_counts.csv       merged_df.csv\r\n"
     ]
    }
   ],
   "source": [
    "!ls ../data"
   ]
  },
  {
   "cell_type": "code",
   "execution_count": 3,
   "id": "absolute-abraham",
   "metadata": {},
   "outputs": [],
   "source": [
    "paths = {'all_data': '../data/merged_df.csv', \"headings\": \"../data/merged_headings_df.csv\"}\n",
    "all_data = pd.read_csv(paths['all_data'], index_col = 0)\n",
    "headings_df = pd.read_csv(paths['headings'], index_col = 0)"
   ]
  },
  {
   "cell_type": "code",
   "execution_count": 4,
   "id": "interim-cross",
   "metadata": {},
   "outputs": [
    {
     "data": {
      "text/html": [
       "<div>\n",
       "<style scoped>\n",
       "    .dataframe tbody tr th:only-of-type {\n",
       "        vertical-align: middle;\n",
       "    }\n",
       "\n",
       "    .dataframe tbody tr th {\n",
       "        vertical-align: top;\n",
       "    }\n",
       "\n",
       "    .dataframe thead th {\n",
       "        text-align: right;\n",
       "    }\n",
       "</style>\n",
       "<table border=\"1\" class=\"dataframe\">\n",
       "  <thead>\n",
       "    <tr style=\"text-align: right;\">\n",
       "      <th></th>\n",
       "      <th>Description</th>\n",
       "      <th>Location</th>\n",
       "      <th>Job Title</th>\n",
       "    </tr>\n",
       "  </thead>\n",
       "  <tbody>\n",
       "    <tr>\n",
       "      <th>0</th>\n",
       "      <td>\\n\\n\\nThis position can be based remotely anyw...</td>\n",
       "      <td>new york</td>\n",
       "      <td>data scientist</td>\n",
       "    </tr>\n",
       "    <tr>\n",
       "      <th>1</th>\n",
       "      <td>\\n\\nSummary\\n \\nImagine what you could do here...</td>\n",
       "      <td>texas</td>\n",
       "      <td>data scientist</td>\n",
       "    </tr>\n",
       "    <tr>\n",
       "      <th>2</th>\n",
       "      <td>\\nLead analytics and measurement efforts for s...</td>\n",
       "      <td>other</td>\n",
       "      <td>data scientist</td>\n",
       "    </tr>\n",
       "    <tr>\n",
       "      <th>3</th>\n",
       "      <td>\\nAbout Gusto\\n\\nGusto is a modern, online peo...</td>\n",
       "      <td>other</td>\n",
       "      <td>data scientist</td>\n",
       "    </tr>\n",
       "    <tr>\n",
       "      <th>4</th>\n",
       "      <td>\\n\\nSummary\\n \\nAt Apple, new ideas have a way...</td>\n",
       "      <td>texas</td>\n",
       "      <td>data scientist</td>\n",
       "    </tr>\n",
       "  </tbody>\n",
       "</table>\n",
       "</div>"
      ],
      "text/plain": [
       "                                         Description  Location       Job Title\n",
       "0  \\n\\n\\nThis position can be based remotely anyw...  new york  data scientist\n",
       "1  \\n\\nSummary\\n \\nImagine what you could do here...     texas  data scientist\n",
       "2  \\nLead analytics and measurement efforts for s...     other  data scientist\n",
       "3  \\nAbout Gusto\\n\\nGusto is a modern, online peo...     other  data scientist\n",
       "4  \\n\\nSummary\\n \\nAt Apple, new ideas have a way...     texas  data scientist"
      ]
     },
     "execution_count": 4,
     "metadata": {},
     "output_type": "execute_result"
    }
   ],
   "source": [
    "all_data.head()"
   ]
  },
  {
   "cell_type": "code",
   "execution_count": 12,
   "id": "satellite-major",
   "metadata": {},
   "outputs": [
    {
     "name": "stderr",
     "output_type": "stream",
     "text": [
      "/Users/mtaruno/opt/anaconda3/envs/cannon/lib/python3.8/site-packages/seaborn/distributions.py:2551: FutureWarning: `distplot` is a deprecated function and will be removed in a future version. Please adapt your code to use either `displot` (a figure-level function with similar flexibility) or `histplot` (an axes-level function for histograms).\n",
      "  warnings.warn(msg, FutureWarning)\n"
     ]
    },
    {
     "data": {
      "image/png": "[encoded data removed]",
      "text/plain": [
       "<Figure size 1152x360 with 1 Axes>"
      ]
     },
     "metadata": {},
     "output_type": "display_data"
    }
   ],
   "source": [
    "nlp.visualize_seq_lengths(all_data['Description'])"
   ]
  },
  {
   "cell_type": "code",
   "execution_count": null,
   "id": "swiss-homework",
   "metadata": {},
   "outputs": [],
   "source": [
    "ds = all_data[all_data['Job Title'] == \"data scientist\"]\n",
    "da = all_data[all_data['Job Title'] == \"data analyst\"]\n",
    "nlp.visualize_seq_lengths(ds['Description'])\n",
    "nlp.visualize_seq_lengths(ds['Description'])"
   ]
  },
  {
   "cell_type": "markdown",
   "id": "reasonable-brazil",
   "metadata": {},
   "source": [
    "# Headings Data <a name=\"headings-data\"></a>"
   ]
  },
  {
   "cell_type": "code",
   "execution_count": 5,
   "id": "alpha-allen",
   "metadata": {},
   "outputs": [
    {
     "data": {
      "text/html": [
       "<div>\n",
       "<style scoped>\n",
       "    .dataframe tbody tr th:only-of-type {\n",
       "        vertical-align: middle;\n",
       "    }\n",
       "\n",
       "    .dataframe tbody tr th {\n",
       "        vertical-align: top;\n",
       "    }\n",
       "\n",
       "    .dataframe thead th {\n",
       "        text-align: right;\n",
       "    }\n",
       "</style>\n",
       "<table border=\"1\" class=\"dataframe\">\n",
       "  <thead>\n",
       "    <tr style=\"text-align: right;\">\n",
       "      <th></th>\n",
       "      <th>ID</th>\n",
       "      <th>Heading Text</th>\n",
       "      <th>Heading Title</th>\n",
       "      <th>Frequency</th>\n",
       "      <th>Person/Job/Org/None</th>\n",
       "    </tr>\n",
       "  </thead>\n",
       "  <tbody>\n",
       "    <tr>\n",
       "      <th>0</th>\n",
       "      <td>0</td>\n",
       "      <td>This is a unique opportunity to collaborate wi...</td>\n",
       "      <td>position summary</td>\n",
       "      <td>56</td>\n",
       "      <td>Job</td>\n",
       "    </tr>\n",
       "    <tr>\n",
       "      <th>1</th>\n",
       "      <td>43</td>\n",
       "      <td>We are looking for a full time Data Scientist ...</td>\n",
       "      <td>position summary</td>\n",
       "      <td>56</td>\n",
       "      <td>Job</td>\n",
       "    </tr>\n",
       "    <tr>\n",
       "      <th>2</th>\n",
       "      <td>157</td>\n",
       "      <td>The Senior Data Analyst is responsible for ana...</td>\n",
       "      <td>position summary</td>\n",
       "      <td>56</td>\n",
       "      <td>Job</td>\n",
       "    </tr>\n",
       "    <tr>\n",
       "      <th>3</th>\n",
       "      <td>176</td>\n",
       "      <td>In this role you'll be working on a team desig...</td>\n",
       "      <td>position summary</td>\n",
       "      <td>56</td>\n",
       "      <td>Job</td>\n",
       "    </tr>\n",
       "    <tr>\n",
       "      <th>4</th>\n",
       "      <td>183</td>\n",
       "      <td>The Senior Data Analyst is responsible for ana...</td>\n",
       "      <td>position summary</td>\n",
       "      <td>56</td>\n",
       "      <td>Job</td>\n",
       "    </tr>\n",
       "  </tbody>\n",
       "</table>\n",
       "</div>"
      ],
      "text/plain": [
       "    ID                                       Heading Text     Heading Title  \\\n",
       "0    0  This is a unique opportunity to collaborate wi...  position summary   \n",
       "1   43  We are looking for a full time Data Scientist ...  position summary   \n",
       "2  157  The Senior Data Analyst is responsible for ana...  position summary   \n",
       "3  176  In this role you'll be working on a team desig...  position summary   \n",
       "4  183  The Senior Data Analyst is responsible for ana...  position summary   \n",
       "\n",
       "   Frequency Person/Job/Org/None  \n",
       "0         56                 Job  \n",
       "1         56                 Job  \n",
       "2         56                 Job  \n",
       "3         56                 Job  \n",
       "4         56                 Job  "
      ]
     },
     "execution_count": 5,
     "metadata": {},
     "output_type": "execute_result"
    }
   ],
   "source": [
    "headings_df.head()"
   ]
  },
  {
   "cell_type": "code",
   "execution_count": 6,
   "id": "decreased-bloom",
   "metadata": {
    "scrolled": true
   },
   "outputs": [
    {
     "data": {
      "text/plain": [
       "ID                       0\n",
       "Heading Text             0\n",
       "Heading Title            0\n",
       "Frequency                0\n",
       "Person/Job/Org/None    774\n",
       "dtype: int64"
      ]
     },
     "execution_count": 6,
     "metadata": {},
     "output_type": "execute_result"
    }
   ],
   "source": [
    "# Null values check\n",
    "non_null_headings = headings_df[~headings_df['Heading Text'].isna()]\n",
    "\n",
    "non_null_headings.isna().sum()"
   ]
  },
  {
   "cell_type": "code",
   "execution_count": 7,
   "id": "exempt-bottle",
   "metadata": {},
   "outputs": [
    {
     "data": {
      "text/html": [
       "<div>\n",
       "<style scoped>\n",
       "    .dataframe tbody tr th:only-of-type {\n",
       "        vertical-align: middle;\n",
       "    }\n",
       "\n",
       "    .dataframe tbody tr th {\n",
       "        vertical-align: top;\n",
       "    }\n",
       "\n",
       "    .dataframe thead th {\n",
       "        text-align: right;\n",
       "    }\n",
       "</style>\n",
       "<table border=\"1\" class=\"dataframe\">\n",
       "  <thead>\n",
       "    <tr style=\"text-align: right;\">\n",
       "      <th></th>\n",
       "      <th>ID</th>\n",
       "      <th>Heading Text</th>\n",
       "      <th>Heading Title</th>\n",
       "      <th>Frequency</th>\n",
       "      <th>Person/Job/Org/None</th>\n",
       "    </tr>\n",
       "  </thead>\n",
       "  <tbody>\n",
       "    <tr>\n",
       "      <th>0</th>\n",
       "      <td>0</td>\n",
       "      <td>This is a unique opportunity to collaborate wi...</td>\n",
       "      <td>position summary</td>\n",
       "      <td>56</td>\n",
       "      <td>Job</td>\n",
       "    </tr>\n",
       "    <tr>\n",
       "      <th>1</th>\n",
       "      <td>43</td>\n",
       "      <td>We are looking for a full time Data Scientist ...</td>\n",
       "      <td>position summary</td>\n",
       "      <td>56</td>\n",
       "      <td>Job</td>\n",
       "    </tr>\n",
       "    <tr>\n",
       "      <th>2</th>\n",
       "      <td>157</td>\n",
       "      <td>The Senior Data Analyst is responsible for ana...</td>\n",
       "      <td>position summary</td>\n",
       "      <td>56</td>\n",
       "      <td>Job</td>\n",
       "    </tr>\n",
       "    <tr>\n",
       "      <th>3</th>\n",
       "      <td>176</td>\n",
       "      <td>In this role you'll be working on a team desig...</td>\n",
       "      <td>position summary</td>\n",
       "      <td>56</td>\n",
       "      <td>Job</td>\n",
       "    </tr>\n",
       "    <tr>\n",
       "      <th>4</th>\n",
       "      <td>183</td>\n",
       "      <td>The Senior Data Analyst is responsible for ana...</td>\n",
       "      <td>position summary</td>\n",
       "      <td>56</td>\n",
       "      <td>Job</td>\n",
       "    </tr>\n",
       "  </tbody>\n",
       "</table>\n",
       "</div>"
      ],
      "text/plain": [
       "    ID                                       Heading Text     Heading Title  \\\n",
       "0    0  This is a unique opportunity to collaborate wi...  position summary   \n",
       "1   43  We are looking for a full time Data Scientist ...  position summary   \n",
       "2  157  The Senior Data Analyst is responsible for ana...  position summary   \n",
       "3  176  In this role you'll be working on a team desig...  position summary   \n",
       "4  183  The Senior Data Analyst is responsible for ana...  position summary   \n",
       "\n",
       "   Frequency Person/Job/Org/None  \n",
       "0         56                 Job  \n",
       "1         56                 Job  \n",
       "2         56                 Job  \n",
       "3         56                 Job  \n",
       "4         56                 Job  "
      ]
     },
     "execution_count": 7,
     "metadata": {},
     "output_type": "execute_result"
    }
   ],
   "source": [
    "non_null_headings.head()"
   ]
  },
  {
   "cell_type": "code",
   "execution_count": 8,
   "id": "careful-tsunami",
   "metadata": {},
   "outputs": [
    {
     "data": {
      "text/plain": [
       "(6373, 5)"
      ]
     },
     "execution_count": 8,
     "metadata": {},
     "output_type": "execute_result"
    }
   ],
   "source": [
    "non_null_headings.shape"
   ]
  },
  {
   "cell_type": "code",
   "execution_count": 9,
   "id": "tested-underground",
   "metadata": {},
   "outputs": [
    {
     "name": "stderr",
     "output_type": "stream",
     "text": [
      "/Users/mtaruno/opt/anaconda3/envs/cannon/lib/python3.8/site-packages/seaborn/_decorators.py:36: FutureWarning: Pass the following variables as keyword args: x, y. From version 0.12, the only valid positional argument will be `data`, and passing other arguments without an explicit keyword will result in an error or misinterpretation.\n",
      "  warnings.warn(\n"
     ]
    },
    {
     "data": {
      "image/png": "[encoded data removed]",
      "text/plain": [
       "<Figure size 1152x360 with 1 Axes>"
      ]
     },
     "metadata": {},
     "output_type": "display_data"
    }
   ],
   "source": [
    "# Looking at the distribution of words\n",
    "nlp.visualize_counts(non_null_headings['Heading Text'])"
   ]
  },
  {
   "cell_type": "code",
   "execution_count": 11,
   "id": "acute-peninsula",
   "metadata": {},
   "outputs": [
    {
     "name": "stderr",
     "output_type": "stream",
     "text": [
      "/Users/mtaruno/opt/anaconda3/envs/cannon/lib/python3.8/site-packages/seaborn/distributions.py:2551: FutureWarning: `distplot` is a deprecated function and will be removed in a future version. Please adapt your code to use either `displot` (a figure-level function with similar flexibility) or `histplot` (an axes-level function for histograms).\n",
      "  warnings.warn(msg, FutureWarning)\n"
     ]
    },
    {
     "data": {
      "image/png": "[encoded data removed]",
      "text/plain": [
       "<Figure size 1152x360 with 1 Axes>"
      ]
     },
     "metadata": {},
     "output_type": "display_data"
    }
   ],
   "source": [
    "nlp.visualize_seq_lengths(non_null_headings['Heading Text'])"
   ]
  },
  {
   "cell_type": "markdown",
   "id": "fantastic-savage",
   "metadata": {},
   "source": [
    "# Data Cleaning <a name=\"data-cleaning\"></a>"
   ]
  },
  {
   "cell_type": "code",
   "execution_count": 9,
   "id": "gross-minute",
   "metadata": {},
   "outputs": [
    {
     "data": {
      "text/html": [
       "<div>\n",
       "<style scoped>\n",
       "    .dataframe tbody tr th:only-of-type {\n",
       "        vertical-align: middle;\n",
       "    }\n",
       "\n",
       "    .dataframe tbody tr th {\n",
       "        vertical-align: top;\n",
       "    }\n",
       "\n",
       "    .dataframe thead th {\n",
       "        text-align: right;\n",
       "    }\n",
       "</style>\n",
       "<table border=\"1\" class=\"dataframe\">\n",
       "  <thead>\n",
       "    <tr style=\"text-align: right;\">\n",
       "      <th></th>\n",
       "      <th>Description</th>\n",
       "      <th>Location</th>\n",
       "      <th>Job Title</th>\n",
       "    </tr>\n",
       "  </thead>\n",
       "  <tbody>\n",
       "    <tr>\n",
       "      <th>0</th>\n",
       "      <td>\\n\\n\\nThis position can be based remotely anyw...</td>\n",
       "      <td>new york</td>\n",
       "      <td>data scientist</td>\n",
       "    </tr>\n",
       "    <tr>\n",
       "      <th>1</th>\n",
       "      <td>\\n\\nSummary\\n \\nImagine what you could do here...</td>\n",
       "      <td>texas</td>\n",
       "      <td>data scientist</td>\n",
       "    </tr>\n",
       "    <tr>\n",
       "      <th>2</th>\n",
       "      <td>\\nLead analytics and measurement efforts for s...</td>\n",
       "      <td>other</td>\n",
       "      <td>data scientist</td>\n",
       "    </tr>\n",
       "    <tr>\n",
       "      <th>3</th>\n",
       "      <td>\\nAbout Gusto\\n\\nGusto is a modern, online peo...</td>\n",
       "      <td>other</td>\n",
       "      <td>data scientist</td>\n",
       "    </tr>\n",
       "    <tr>\n",
       "      <th>4</th>\n",
       "      <td>\\n\\nSummary\\n \\nAt Apple, new ideas have a way...</td>\n",
       "      <td>texas</td>\n",
       "      <td>data scientist</td>\n",
       "    </tr>\n",
       "  </tbody>\n",
       "</table>\n",
       "</div>"
      ],
      "text/plain": [
       "                                         Description  Location       Job Title\n",
       "0  \\n\\n\\nThis position can be based remotely anyw...  new york  data scientist\n",
       "1  \\n\\nSummary\\n \\nImagine what you could do here...     texas  data scientist\n",
       "2  \\nLead analytics and measurement efforts for s...     other  data scientist\n",
       "3  \\nAbout Gusto\\n\\nGusto is a modern, online peo...     other  data scientist\n",
       "4  \\n\\nSummary\\n \\nAt Apple, new ideas have a way...     texas  data scientist"
      ]
     },
     "execution_count": 9,
     "metadata": {},
     "output_type": "execute_result"
    }
   ],
   "source": [
    "all_data.head()"
   ]
  },
  {
   "cell_type": "code",
   "execution_count": null,
   "id": "native-gather",
   "metadata": {},
   "outputs": [],
   "source": [
    "all_data['Description']"
   ]
  },
  {
   "cell_type": "markdown",
   "id": "several-cedar",
   "metadata": {},
   "source": [
    "# Set Analysis"
   ]
  },
  {
   "cell_type": "code",
   "execution_count": 11,
   "id": "announced-cameroon",
   "metadata": {},
   "outputs": [
    {
     "data": {
      "text/plain": [
       "{'ability',\n",
       " 'across',\n",
       " 'analysis',\n",
       " 'analytics',\n",
       " 'business',\n",
       " 'degree',\n",
       " 'develop',\n",
       " 'development',\n",
       " 'experience',\n",
       " 'health',\n",
       " 'including',\n",
       " 'insights',\n",
       " 'knowledge',\n",
       " 'management',\n",
       " 'new',\n",
       " 'opportunity',\n",
       " 'product',\n",
       " 'research',\n",
       " 'role',\n",
       " 'skills',\n",
       " 'status',\n",
       " 'strong',\n",
       " 'support',\n",
       " 'team',\n",
       " 'teams',\n",
       " 'technology',\n",
       " 'tools',\n",
       " 'using',\n",
       " 'work',\n",
       " 'working',\n",
       " 'years'}"
      ]
     },
     "execution_count": 11,
     "metadata": {},
     "output_type": "execute_result"
    }
   ],
   "source": [
    "top_ds = set(ds_words.sum().sort_values(ascending=False)[:50].index)\n",
    "top_da = set(da_words.sum().sort_values(ascending=False)[:50].index)\n",
    "\n",
    "top_ds.intersection(top_da)"
   ]
  },
  {
   "cell_type": "code",
   "execution_count": 12,
   "id": "ambient-external",
   "metadata": {},
   "outputs": [
    {
     "data": {
      "text/plain": [
       "experience     2002\n",
       "team           1173\n",
       "work           1148\n",
       "business       1117\n",
       "learning       1103\n",
       "science         990\n",
       "machine         819\n",
       "new             751\n",
       "analytics       701\n",
       "product         665\n",
       "research        619\n",
       "skills          619\n",
       "analysis        601\n",
       "models          585\n",
       "people          584\n",
       "working         574\n",
       "years           552\n",
       "including       507\n",
       "teams           501\n",
       "status          500\n",
       "world           478\n",
       "engineering     475\n",
       "company         471\n",
       "ability         467\n",
       "across          467\n",
       "solutions       453\n",
       "development     451\n",
       "build           447\n",
       "insights        440\n",
       "strong          431\n",
       "help            431\n",
       "technical       419\n",
       "health          414\n",
       "opportunity     409\n",
       "using           391\n",
       "us              390\n",
       "knowledge       381\n",
       "statistical     378\n",
       "management      376\n",
       "tools           376\n",
       "role            374\n",
       "gender          373\n",
       "support         360\n",
       "develop         357\n",
       "python          349\n",
       "products        344\n",
       "problems        339\n",
       "scientist       328\n",
       "technology      317\n",
       "degree          316\n",
       "dtype: int64"
      ]
     },
     "execution_count": 12,
     "metadata": {},
     "output_type": "execute_result"
    }
   ],
   "source": [
    "ds_words.sum().sort_values(ascending=False)[:50]"
   ]
  },
  {
   "cell_type": "code",
   "execution_count": 13,
   "id": "historic-agency",
   "metadata": {},
   "outputs": [
    {
     "data": {
      "text/plain": [
       "{'build',\n",
       " 'company',\n",
       " 'engineering',\n",
       " 'gender',\n",
       " 'help',\n",
       " 'learning',\n",
       " 'machine',\n",
       " 'models',\n",
       " 'people',\n",
       " 'problems',\n",
       " 'products',\n",
       " 'python',\n",
       " 'science',\n",
       " 'scientist',\n",
       " 'solutions',\n",
       " 'statistical',\n",
       " 'technical',\n",
       " 'us',\n",
       " 'world'}"
      ]
     },
     "execution_count": 13,
     "metadata": {},
     "output_type": "execute_result"
    }
   ],
   "source": [
    "top_ds - top_da"
   ]
  },
  {
   "cell_type": "code",
   "execution_count": 14,
   "id": "challenging-democrat",
   "metadata": {},
   "outputs": [
    {
     "data": {
      "text/plain": [
       "{'analyst',\n",
       " 'analytical',\n",
       " 'analyze',\n",
       " 'environment',\n",
       " 'financial',\n",
       " 'information',\n",
       " 'job',\n",
       " 'position',\n",
       " 'provide',\n",
       " 'quality',\n",
       " 'related',\n",
       " 'reporting',\n",
       " 'reports',\n",
       " 'required',\n",
       " 'requirements',\n",
       " 'services',\n",
       " 'sql',\n",
       " 'systems',\n",
       " 'time'}"
      ]
     },
     "execution_count": 14,
     "metadata": {},
     "output_type": "execute_result"
    }
   ],
   "source": [
    "top_da - top_ds"
   ]
  },
  {
   "cell_type": "markdown",
   "id": "behind-personality",
   "metadata": {},
   "source": [
    "Ideas for analysis:\n",
    "* LDA\n",
    "* N Gram Analysis"
   ]
  },
  {
   "cell_type": "markdown",
   "id": "regulation-morocco",
   "metadata": {},
   "source": [
    "Spit out a CSV file with unique header examples. Then we can make dummy variables to see what's in the skill requirements vs what does the job do. It would be interesting to see when we start looking at different job titles, what words pop up in common across them? What's in a data scientist job description that is not in a job analyst job description?\n",
    "\n",
    "What are words that appear in one vs the other? What is the range of job descriptions that we are pulling out?\n",
    "\n",
    "Data Analyst has less requirements than Data Scientist, is that actually true? We can look at it by industry and location as well.\n",
    "\n",
    "Sillicon Valley vs New York. Regional differences for expectations for technical capabilities?"
   ]
  }
 ],
 "metadata": {
  "kernelspec": {
   "display_name": "Python 3",
   "language": "python",
   "name": "python3"
  },
  "language_info": {
   "codemirror_mode": {
    "name": "ipython",
    "version": 3
   },
   "file_extension": ".py",
   "mimetype": "text/x-python",
   "name": "python",
   "nbconvert_exporter": "python",
   "pygments_lexer": "ipython3",
   "version": "3.8.5"
  }
 },
 "nbformat": 4,
 "nbformat_minor": 5
}
